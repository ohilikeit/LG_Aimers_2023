{
  "nbformat": 4,
  "nbformat_minor": 0,
  "metadata": {
    "colab": {
      "provenance": [],
      "collapsed_sections": [
        "LpsGNAQlSWCc",
        "EEf_ka3VbN9R",
        "9NWbT0ZujlP8",
        "yHnaCEjCjxD_",
        "1A_5bF8soNF9",
        "Os-HbRdq7gv9"
      ],
      "machine_shape": "hm",
      "mount_file_id": "1avpUAGNB_QTEpJSA983xoX3_WtmNfD5z",
      "authorship_tag": "ABX9TyMsBzAuyo29HdEp6i4GPwT2",
      "include_colab_link": true
    },
    "kernelspec": {
      "name": "python3",
      "display_name": "Python 3"
    },
    "language_info": {
      "name": "python"
    },
    "accelerator": "GPU",
    "gpuClass": "standard"
  },
  "cells": [
    {
      "cell_type": "markdown",
      "metadata": {
        "id": "view-in-github",
        "colab_type": "text"
      },
      "source": [
        "<a href=\"https://colab.research.google.com/github/ohilikeit/LG_Aimers_2023/blob/main/regressor.ipynb\" target=\"_parent\"><img src=\"https://colab.research.google.com/assets/colab-badge.svg\" alt=\"Open In Colab\"/></a>"
      ]
    },
    {
      "cell_type": "code",
      "source": [
        "! pip install optuna\n",
        "! pip install catboost"
      ],
      "metadata": {
        "id": "XDJ9aluJhK3D"
      },
      "execution_count": null,
      "outputs": []
    },
    {
      "cell_type": "code",
      "execution_count": null,
      "metadata": {
        "id": "oVJwOob_UgF2",
        "colab": {
          "base_uri": "https://localhost:8080/",
          "height": 331
        },
        "outputId": "dab11a98-f137-4b8d-eb21-18faaa421e8f"
      },
      "outputs": [
        {
          "output_type": "execute_result",
          "data": {
            "text/plain": [
              "                      count      mean       std  min   25%  50%  75%  max\n",
              "LINE    PRODUCT_CODE                                                     \n",
              "T010305 A_31           59.0  0.966102  0.642358  0.0  1.00  1.0  1.0  2.0\n",
              "T010306 A_31           70.0  1.300000  0.622058  0.0  1.00  1.0  2.0  2.0\n",
              "T050304 A_31           78.0  0.756410  0.687285  0.0  0.00  1.0  1.0  2.0\n",
              "T050307 A_31           42.0  1.261905  0.857094  0.0  0.25  2.0  2.0  2.0\n",
              "T100304 O_31            3.0  1.000000  0.000000  1.0  1.00  1.0  1.0  1.0\n",
              "        T_31          172.0  0.982558  0.425418  0.0  1.00  1.0  1.0  2.0\n",
              "T100306 O_31            3.0  1.666667  0.577350  1.0  1.50  2.0  2.0  2.0\n",
              "        T_31          171.0  1.029240  0.397446  0.0  1.00  1.0  1.0  2.0"
            ],
            "text/html": [
              "\n",
              "  <div id=\"df-66aed8fe-1ef3-4eb4-b779-5d5890a2a967\">\n",
              "    <div class=\"colab-df-container\">\n",
              "      <div>\n",
              "<style scoped>\n",
              "    .dataframe tbody tr th:only-of-type {\n",
              "        vertical-align: middle;\n",
              "    }\n",
              "\n",
              "    .dataframe tbody tr th {\n",
              "        vertical-align: top;\n",
              "    }\n",
              "\n",
              "    .dataframe thead th {\n",
              "        text-align: right;\n",
              "    }\n",
              "</style>\n",
              "<table border=\"1\" class=\"dataframe\">\n",
              "  <thead>\n",
              "    <tr style=\"text-align: right;\">\n",
              "      <th></th>\n",
              "      <th></th>\n",
              "      <th>count</th>\n",
              "      <th>mean</th>\n",
              "      <th>std</th>\n",
              "      <th>min</th>\n",
              "      <th>25%</th>\n",
              "      <th>50%</th>\n",
              "      <th>75%</th>\n",
              "      <th>max</th>\n",
              "    </tr>\n",
              "    <tr>\n",
              "      <th>LINE</th>\n",
              "      <th>PRODUCT_CODE</th>\n",
              "      <th></th>\n",
              "      <th></th>\n",
              "      <th></th>\n",
              "      <th></th>\n",
              "      <th></th>\n",
              "      <th></th>\n",
              "      <th></th>\n",
              "      <th></th>\n",
              "    </tr>\n",
              "  </thead>\n",
              "  <tbody>\n",
              "    <tr>\n",
              "      <th>T010305</th>\n",
              "      <th>A_31</th>\n",
              "      <td>59.0</td>\n",
              "      <td>0.966102</td>\n",
              "      <td>0.642358</td>\n",
              "      <td>0.0</td>\n",
              "      <td>1.00</td>\n",
              "      <td>1.0</td>\n",
              "      <td>1.0</td>\n",
              "      <td>2.0</td>\n",
              "    </tr>\n",
              "    <tr>\n",
              "      <th>T010306</th>\n",
              "      <th>A_31</th>\n",
              "      <td>70.0</td>\n",
              "      <td>1.300000</td>\n",
              "      <td>0.622058</td>\n",
              "      <td>0.0</td>\n",
              "      <td>1.00</td>\n",
              "      <td>1.0</td>\n",
              "      <td>2.0</td>\n",
              "      <td>2.0</td>\n",
              "    </tr>\n",
              "    <tr>\n",
              "      <th>T050304</th>\n",
              "      <th>A_31</th>\n",
              "      <td>78.0</td>\n",
              "      <td>0.756410</td>\n",
              "      <td>0.687285</td>\n",
              "      <td>0.0</td>\n",
              "      <td>0.00</td>\n",
              "      <td>1.0</td>\n",
              "      <td>1.0</td>\n",
              "      <td>2.0</td>\n",
              "    </tr>\n",
              "    <tr>\n",
              "      <th>T050307</th>\n",
              "      <th>A_31</th>\n",
              "      <td>42.0</td>\n",
              "      <td>1.261905</td>\n",
              "      <td>0.857094</td>\n",
              "      <td>0.0</td>\n",
              "      <td>0.25</td>\n",
              "      <td>2.0</td>\n",
              "      <td>2.0</td>\n",
              "      <td>2.0</td>\n",
              "    </tr>\n",
              "    <tr>\n",
              "      <th rowspan=\"2\" valign=\"top\">T100304</th>\n",
              "      <th>O_31</th>\n",
              "      <td>3.0</td>\n",
              "      <td>1.000000</td>\n",
              "      <td>0.000000</td>\n",
              "      <td>1.0</td>\n",
              "      <td>1.00</td>\n",
              "      <td>1.0</td>\n",
              "      <td>1.0</td>\n",
              "      <td>1.0</td>\n",
              "    </tr>\n",
              "    <tr>\n",
              "      <th>T_31</th>\n",
              "      <td>172.0</td>\n",
              "      <td>0.982558</td>\n",
              "      <td>0.425418</td>\n",
              "      <td>0.0</td>\n",
              "      <td>1.00</td>\n",
              "      <td>1.0</td>\n",
              "      <td>1.0</td>\n",
              "      <td>2.0</td>\n",
              "    </tr>\n",
              "    <tr>\n",
              "      <th rowspan=\"2\" valign=\"top\">T100306</th>\n",
              "      <th>O_31</th>\n",
              "      <td>3.0</td>\n",
              "      <td>1.666667</td>\n",
              "      <td>0.577350</td>\n",
              "      <td>1.0</td>\n",
              "      <td>1.50</td>\n",
              "      <td>2.0</td>\n",
              "      <td>2.0</td>\n",
              "      <td>2.0</td>\n",
              "    </tr>\n",
              "    <tr>\n",
              "      <th>T_31</th>\n",
              "      <td>171.0</td>\n",
              "      <td>1.029240</td>\n",
              "      <td>0.397446</td>\n",
              "      <td>0.0</td>\n",
              "      <td>1.00</td>\n",
              "      <td>1.0</td>\n",
              "      <td>1.0</td>\n",
              "      <td>2.0</td>\n",
              "    </tr>\n",
              "  </tbody>\n",
              "</table>\n",
              "</div>\n",
              "      <button class=\"colab-df-convert\" onclick=\"convertToInteractive('df-66aed8fe-1ef3-4eb4-b779-5d5890a2a967')\"\n",
              "              title=\"Convert this dataframe to an interactive table.\"\n",
              "              style=\"display:none;\">\n",
              "        \n",
              "  <svg xmlns=\"http://www.w3.org/2000/svg\" height=\"24px\"viewBox=\"0 0 24 24\"\n",
              "       width=\"24px\">\n",
              "    <path d=\"M0 0h24v24H0V0z\" fill=\"none\"/>\n",
              "    <path d=\"M18.56 5.44l.94 2.06.94-2.06 2.06-.94-2.06-.94-.94-2.06-.94 2.06-2.06.94zm-11 1L8.5 8.5l.94-2.06 2.06-.94-2.06-.94L8.5 2.5l-.94 2.06-2.06.94zm10 10l.94 2.06.94-2.06 2.06-.94-2.06-.94-.94-2.06-.94 2.06-2.06.94z\"/><path d=\"M17.41 7.96l-1.37-1.37c-.4-.4-.92-.59-1.43-.59-.52 0-1.04.2-1.43.59L10.3 9.45l-7.72 7.72c-.78.78-.78 2.05 0 2.83L4 21.41c.39.39.9.59 1.41.59.51 0 1.02-.2 1.41-.59l7.78-7.78 2.81-2.81c.8-.78.8-2.07 0-2.86zM5.41 20L4 18.59l7.72-7.72 1.47 1.35L5.41 20z\"/>\n",
              "  </svg>\n",
              "      </button>\n",
              "      \n",
              "  <style>\n",
              "    .colab-df-container {\n",
              "      display:flex;\n",
              "      flex-wrap:wrap;\n",
              "      gap: 12px;\n",
              "    }\n",
              "\n",
              "    .colab-df-convert {\n",
              "      background-color: #E8F0FE;\n",
              "      border: none;\n",
              "      border-radius: 50%;\n",
              "      cursor: pointer;\n",
              "      display: none;\n",
              "      fill: #1967D2;\n",
              "      height: 32px;\n",
              "      padding: 0 0 0 0;\n",
              "      width: 32px;\n",
              "    }\n",
              "\n",
              "    .colab-df-convert:hover {\n",
              "      background-color: #E2EBFA;\n",
              "      box-shadow: 0px 1px 2px rgba(60, 64, 67, 0.3), 0px 1px 3px 1px rgba(60, 64, 67, 0.15);\n",
              "      fill: #174EA6;\n",
              "    }\n",
              "\n",
              "    [theme=dark] .colab-df-convert {\n",
              "      background-color: #3B4455;\n",
              "      fill: #D2E3FC;\n",
              "    }\n",
              "\n",
              "    [theme=dark] .colab-df-convert:hover {\n",
              "      background-color: #434B5C;\n",
              "      box-shadow: 0px 1px 3px 1px rgba(0, 0, 0, 0.15);\n",
              "      filter: drop-shadow(0px 1px 2px rgba(0, 0, 0, 0.3));\n",
              "      fill: #FFFFFF;\n",
              "    }\n",
              "  </style>\n",
              "\n",
              "      <script>\n",
              "        const buttonEl =\n",
              "          document.querySelector('#df-66aed8fe-1ef3-4eb4-b779-5d5890a2a967 button.colab-df-convert');\n",
              "        buttonEl.style.display =\n",
              "          google.colab.kernel.accessAllowed ? 'block' : 'none';\n",
              "\n",
              "        async function convertToInteractive(key) {\n",
              "          const element = document.querySelector('#df-66aed8fe-1ef3-4eb4-b779-5d5890a2a967');\n",
              "          const dataTable =\n",
              "            await google.colab.kernel.invokeFunction('convertToInteractive',\n",
              "                                                     [key], {});\n",
              "          if (!dataTable) return;\n",
              "\n",
              "          const docLinkHtml = 'Like what you see? Visit the ' +\n",
              "            '<a target=\"_blank\" href=https://colab.research.google.com/notebooks/data_table.ipynb>data table notebook</a>'\n",
              "            + ' to learn more about interactive tables.';\n",
              "          element.innerHTML = '';\n",
              "          dataTable['output_type'] = 'display_data';\n",
              "          await google.colab.output.renderOutput(dataTable, element);\n",
              "          const docLink = document.createElement('div');\n",
              "          docLink.innerHTML = docLinkHtml;\n",
              "          element.appendChild(docLink);\n",
              "        }\n",
              "      </script>\n",
              "    </div>\n",
              "  </div>\n",
              "  "
            ]
          },
          "metadata": {},
          "execution_count": 18
        }
      ],
      "source": [
        "import os\n",
        "import warnings\n",
        "import random\n",
        "import pandas as pd\n",
        "import numpy as np\n",
        "import seaborn as sns\n",
        "import matplotlib.pyplot as plt\n",
        "%matplotlib inline \n",
        "\n",
        "from sklearn.preprocessing import LabelEncoder\n",
        "from sklearn.preprocessing import RobustScaler, StandardScaler\n",
        "from sklearn.model_selection import train_test_split\n",
        "from sklearn.metrics import mean_absolute_error\n",
        "from sklearn.model_selection import StratifiedKFold, KFold\n",
        "from sklearn.metrics import f1_score, mean_squared_error\n",
        "\n",
        "from sklearn.ensemble import GradientBoostingRegressor\n",
        "from sklearn.ensemble import RandomForestRegressor\n",
        "from sklearn.tree import DecisionTreeRegressor\n",
        "from sklearn.linear_model import LinearRegression\n",
        "from sklearn.ensemble import ExtraTreesRegressor\n",
        "from xgboost import XGBRegressor\n",
        "from lightgbm import LGBMRegressor\n",
        "\n",
        "from catboost import CatBoostRegressor\n",
        "import optuna\n",
        "from optuna import Trial, visualization\n",
        "from optuna.samplers import TPESampler\n",
        "\n",
        "warnings.simplefilter(action='ignore', category=FutureWarning)\n",
        "def seed_everything(seed):\n",
        "    random.seed(seed)\n",
        "    os.environ['PYTHONHASHSEED'] = str(seed)\n",
        "    np.random.seed(seed)\n",
        "seed_everything(42)\n",
        "os.chdir('/content/drive/MyDrive/ML_projects/LG_Aimers')\n",
        "train = pd.read_csv('./train.csv').fillna(0)\n",
        "test = pd.read_csv('./test.csv').fillna(0)\n",
        "sample_submission = pd.read_csv('./sample_submission.csv')\n",
        "\n",
        "qual_col = ['LINE', 'PRODUCT_CODE']\n",
        "\n",
        "for i in qual_col:\n",
        "    le = LabelEncoder()\n",
        "    le = le.fit(train[i])\n",
        "    train[i] = le.transform(train[i])\n",
        "    \n",
        "    for label in np.unique(test[i]): \n",
        "        if label not in le.classes_: \n",
        "            le.classes_ = np.append(le.classes_, label)\n",
        "    test[i] = le.transform(test[i])\n",
        "\n",
        "X = train.drop(['PRODUCT_ID', 'Y_Class', 'Y_Quality', 'TIMESTAMP'], axis=1)\n",
        "y = train['Y_Class']\n",
        "test = test.drop(['PRODUCT_ID', 'TIMESTAMP'], axis=1)\n",
        "\n",
        "# scaling\n",
        "scaler = RobustScaler()\n",
        "X = pd.DataFrame(scaler.fit_transform(X), columns = X.columns)\n",
        "test = pd.DataFrame(scaler.transform(test), columns = test.columns)\n",
        "\n",
        "def preprocess(df):\n",
        "    # 아예 비어있는 컬럼 제거\n",
        "    for i in df.columns:\n",
        "        if list(df[i].value_counts()) == []:\n",
        "            df.drop(i, axis = 1, inplace=True)\n",
        "\n",
        "    return df\n",
        "\n",
        "X = preprocess(X)\n",
        "test = preprocess(test)\n",
        "train = pd.concat([X, y], axis=1)\n",
        "train.groupby(['LINE', 'PRODUCT_CODE'])['Y_Class'].describe()"
      ]
    },
    {
      "cell_type": "code",
      "source": [
        "train = pd.read_csv('./train.csv').fillna(0)\n",
        "train[train['PRODUCT_CODE'] == 'A_31']"
      ],
      "metadata": {
        "colab": {
          "base_uri": "https://localhost:8080/",
          "height": 423
        },
        "id": "sGxYeLYRbcuL",
        "outputId": "9d1e8023-d69f-40d4-8a0a-55864be2104e"
      },
      "execution_count": null,
      "outputs": [
        {
          "output_type": "execute_result",
          "data": {
            "text/plain": [
              "    PRODUCT_ID  Y_Class  Y_Quality         TIMESTAMP     LINE PRODUCT_CODE  \\\n",
              "0    TRAIN_000        1   0.533433   2022-06-13 5:14  T050304         A_31   \n",
              "1    TRAIN_001        2   0.541819   2022-06-13 5:22  T050307         A_31   \n",
              "2    TRAIN_002        1   0.531267   2022-06-13 5:30  T050304         A_31   \n",
              "3    TRAIN_003        2   0.537325   2022-06-13 5:39  T050307         A_31   \n",
              "4    TRAIN_004        1   0.531590   2022-06-13 5:47  T050304         A_31   \n",
              "..         ...      ...        ...               ...      ...          ...   \n",
              "583  TRAIN_583        0   0.522340   2022-09-05 8:34  T050304         A_31   \n",
              "584  TRAIN_584        0   0.519519  2022-09-05 11:09  T010305         A_31   \n",
              "585  TRAIN_585        0   0.515214  2022-09-05 11:17  T010306         A_31   \n",
              "594  TRAIN_594        0   0.524022  2022-09-08 22:38  T050304         A_31   \n",
              "595  TRAIN_595        0   0.521289  2022-09-08 22:47  T050304         A_31   \n",
              "\n",
              "     X_1  X_2  X_3  X_4  ...  X_2866  X_2867  X_2868  X_2869  X_2870  X_2871  \\\n",
              "0    0.0  0.0  0.0  0.0  ...   39.34   40.89   32.56   34.09   77.77     0.0   \n",
              "1    0.0  0.0  0.0  0.0  ...   38.89   42.82   43.92   35.34   72.55     0.0   \n",
              "2    0.0  0.0  0.0  0.0  ...   39.19   36.65   42.47   36.53   78.35     0.0   \n",
              "3    0.0  0.0  0.0  0.0  ...   37.74   39.17   52.17   30.58   71.78     0.0   \n",
              "4    0.0  0.0  0.0  0.0  ...   38.70   41.89   46.93   33.09   76.97     0.0   \n",
              "..   ...  ...  ...  ...  ...     ...     ...     ...     ...     ...     ...   \n",
              "583  0.0  0.0  0.0  0.0  ...   51.71   59.64   54.61   57.05   63.18     1.0   \n",
              "584  0.0  0.0  0.0  0.0  ...    0.00    0.00    0.00    0.00    0.00     0.0   \n",
              "585  0.0  0.0  0.0  0.0  ...    0.00    0.00    0.00    0.00    0.00     0.0   \n",
              "594  0.0  0.0  0.0  0.0  ...   49.47   53.07   50.89   55.10   66.49     1.0   \n",
              "595  0.0  0.0  0.0  0.0  ...    0.00    0.00    0.00    0.00    0.00     1.0   \n",
              "\n",
              "     X_2872  X_2873  X_2874  X_2875  \n",
              "0       0.0     0.0     0.0     0.0  \n",
              "1       0.0     0.0     0.0     0.0  \n",
              "2       0.0     0.0     0.0     0.0  \n",
              "3       0.0     0.0     0.0     0.0  \n",
              "4       0.0     0.0     0.0     0.0  \n",
              "..      ...     ...     ...     ...  \n",
              "583     0.0     0.0     0.0     0.0  \n",
              "584     0.0     0.0     0.0     0.0  \n",
              "585     0.0     0.0     0.0     0.0  \n",
              "594     0.0     0.0     0.0     0.0  \n",
              "595     0.0     0.0     0.0     0.0  \n",
              "\n",
              "[249 rows x 2881 columns]"
            ],
            "text/html": [
              "\n",
              "  <div id=\"df-5633c225-96cd-4a07-b103-6af9f2402f0a\">\n",
              "    <div class=\"colab-df-container\">\n",
              "      <div>\n",
              "<style scoped>\n",
              "    .dataframe tbody tr th:only-of-type {\n",
              "        vertical-align: middle;\n",
              "    }\n",
              "\n",
              "    .dataframe tbody tr th {\n",
              "        vertical-align: top;\n",
              "    }\n",
              "\n",
              "    .dataframe thead th {\n",
              "        text-align: right;\n",
              "    }\n",
              "</style>\n",
              "<table border=\"1\" class=\"dataframe\">\n",
              "  <thead>\n",
              "    <tr style=\"text-align: right;\">\n",
              "      <th></th>\n",
              "      <th>PRODUCT_ID</th>\n",
              "      <th>Y_Class</th>\n",
              "      <th>Y_Quality</th>\n",
              "      <th>TIMESTAMP</th>\n",
              "      <th>LINE</th>\n",
              "      <th>PRODUCT_CODE</th>\n",
              "      <th>X_1</th>\n",
              "      <th>X_2</th>\n",
              "      <th>X_3</th>\n",
              "      <th>X_4</th>\n",
              "      <th>...</th>\n",
              "      <th>X_2866</th>\n",
              "      <th>X_2867</th>\n",
              "      <th>X_2868</th>\n",
              "      <th>X_2869</th>\n",
              "      <th>X_2870</th>\n",
              "      <th>X_2871</th>\n",
              "      <th>X_2872</th>\n",
              "      <th>X_2873</th>\n",
              "      <th>X_2874</th>\n",
              "      <th>X_2875</th>\n",
              "    </tr>\n",
              "  </thead>\n",
              "  <tbody>\n",
              "    <tr>\n",
              "      <th>0</th>\n",
              "      <td>TRAIN_000</td>\n",
              "      <td>1</td>\n",
              "      <td>0.533433</td>\n",
              "      <td>2022-06-13 5:14</td>\n",
              "      <td>T050304</td>\n",
              "      <td>A_31</td>\n",
              "      <td>0.0</td>\n",
              "      <td>0.0</td>\n",
              "      <td>0.0</td>\n",
              "      <td>0.0</td>\n",
              "      <td>...</td>\n",
              "      <td>39.34</td>\n",
              "      <td>40.89</td>\n",
              "      <td>32.56</td>\n",
              "      <td>34.09</td>\n",
              "      <td>77.77</td>\n",
              "      <td>0.0</td>\n",
              "      <td>0.0</td>\n",
              "      <td>0.0</td>\n",
              "      <td>0.0</td>\n",
              "      <td>0.0</td>\n",
              "    </tr>\n",
              "    <tr>\n",
              "      <th>1</th>\n",
              "      <td>TRAIN_001</td>\n",
              "      <td>2</td>\n",
              "      <td>0.541819</td>\n",
              "      <td>2022-06-13 5:22</td>\n",
              "      <td>T050307</td>\n",
              "      <td>A_31</td>\n",
              "      <td>0.0</td>\n",
              "      <td>0.0</td>\n",
              "      <td>0.0</td>\n",
              "      <td>0.0</td>\n",
              "      <td>...</td>\n",
              "      <td>38.89</td>\n",
              "      <td>42.82</td>\n",
              "      <td>43.92</td>\n",
              "      <td>35.34</td>\n",
              "      <td>72.55</td>\n",
              "      <td>0.0</td>\n",
              "      <td>0.0</td>\n",
              "      <td>0.0</td>\n",
              "      <td>0.0</td>\n",
              "      <td>0.0</td>\n",
              "    </tr>\n",
              "    <tr>\n",
              "      <th>2</th>\n",
              "      <td>TRAIN_002</td>\n",
              "      <td>1</td>\n",
              "      <td>0.531267</td>\n",
              "      <td>2022-06-13 5:30</td>\n",
              "      <td>T050304</td>\n",
              "      <td>A_31</td>\n",
              "      <td>0.0</td>\n",
              "      <td>0.0</td>\n",
              "      <td>0.0</td>\n",
              "      <td>0.0</td>\n",
              "      <td>...</td>\n",
              "      <td>39.19</td>\n",
              "      <td>36.65</td>\n",
              "      <td>42.47</td>\n",
              "      <td>36.53</td>\n",
              "      <td>78.35</td>\n",
              "      <td>0.0</td>\n",
              "      <td>0.0</td>\n",
              "      <td>0.0</td>\n",
              "      <td>0.0</td>\n",
              "      <td>0.0</td>\n",
              "    </tr>\n",
              "    <tr>\n",
              "      <th>3</th>\n",
              "      <td>TRAIN_003</td>\n",
              "      <td>2</td>\n",
              "      <td>0.537325</td>\n",
              "      <td>2022-06-13 5:39</td>\n",
              "      <td>T050307</td>\n",
              "      <td>A_31</td>\n",
              "      <td>0.0</td>\n",
              "      <td>0.0</td>\n",
              "      <td>0.0</td>\n",
              "      <td>0.0</td>\n",
              "      <td>...</td>\n",
              "      <td>37.74</td>\n",
              "      <td>39.17</td>\n",
              "      <td>52.17</td>\n",
              "      <td>30.58</td>\n",
              "      <td>71.78</td>\n",
              "      <td>0.0</td>\n",
              "      <td>0.0</td>\n",
              "      <td>0.0</td>\n",
              "      <td>0.0</td>\n",
              "      <td>0.0</td>\n",
              "    </tr>\n",
              "    <tr>\n",
              "      <th>4</th>\n",
              "      <td>TRAIN_004</td>\n",
              "      <td>1</td>\n",
              "      <td>0.531590</td>\n",
              "      <td>2022-06-13 5:47</td>\n",
              "      <td>T050304</td>\n",
              "      <td>A_31</td>\n",
              "      <td>0.0</td>\n",
              "      <td>0.0</td>\n",
              "      <td>0.0</td>\n",
              "      <td>0.0</td>\n",
              "      <td>...</td>\n",
              "      <td>38.70</td>\n",
              "      <td>41.89</td>\n",
              "      <td>46.93</td>\n",
              "      <td>33.09</td>\n",
              "      <td>76.97</td>\n",
              "      <td>0.0</td>\n",
              "      <td>0.0</td>\n",
              "      <td>0.0</td>\n",
              "      <td>0.0</td>\n",
              "      <td>0.0</td>\n",
              "    </tr>\n",
              "    <tr>\n",
              "      <th>...</th>\n",
              "      <td>...</td>\n",
              "      <td>...</td>\n",
              "      <td>...</td>\n",
              "      <td>...</td>\n",
              "      <td>...</td>\n",
              "      <td>...</td>\n",
              "      <td>...</td>\n",
              "      <td>...</td>\n",
              "      <td>...</td>\n",
              "      <td>...</td>\n",
              "      <td>...</td>\n",
              "      <td>...</td>\n",
              "      <td>...</td>\n",
              "      <td>...</td>\n",
              "      <td>...</td>\n",
              "      <td>...</td>\n",
              "      <td>...</td>\n",
              "      <td>...</td>\n",
              "      <td>...</td>\n",
              "      <td>...</td>\n",
              "      <td>...</td>\n",
              "    </tr>\n",
              "    <tr>\n",
              "      <th>583</th>\n",
              "      <td>TRAIN_583</td>\n",
              "      <td>0</td>\n",
              "      <td>0.522340</td>\n",
              "      <td>2022-09-05 8:34</td>\n",
              "      <td>T050304</td>\n",
              "      <td>A_31</td>\n",
              "      <td>0.0</td>\n",
              "      <td>0.0</td>\n",
              "      <td>0.0</td>\n",
              "      <td>0.0</td>\n",
              "      <td>...</td>\n",
              "      <td>51.71</td>\n",
              "      <td>59.64</td>\n",
              "      <td>54.61</td>\n",
              "      <td>57.05</td>\n",
              "      <td>63.18</td>\n",
              "      <td>1.0</td>\n",
              "      <td>0.0</td>\n",
              "      <td>0.0</td>\n",
              "      <td>0.0</td>\n",
              "      <td>0.0</td>\n",
              "    </tr>\n",
              "    <tr>\n",
              "      <th>584</th>\n",
              "      <td>TRAIN_584</td>\n",
              "      <td>0</td>\n",
              "      <td>0.519519</td>\n",
              "      <td>2022-09-05 11:09</td>\n",
              "      <td>T010305</td>\n",
              "      <td>A_31</td>\n",
              "      <td>0.0</td>\n",
              "      <td>0.0</td>\n",
              "      <td>0.0</td>\n",
              "      <td>0.0</td>\n",
              "      <td>...</td>\n",
              "      <td>0.00</td>\n",
              "      <td>0.00</td>\n",
              "      <td>0.00</td>\n",
              "      <td>0.00</td>\n",
              "      <td>0.00</td>\n",
              "      <td>0.0</td>\n",
              "      <td>0.0</td>\n",
              "      <td>0.0</td>\n",
              "      <td>0.0</td>\n",
              "      <td>0.0</td>\n",
              "    </tr>\n",
              "    <tr>\n",
              "      <th>585</th>\n",
              "      <td>TRAIN_585</td>\n",
              "      <td>0</td>\n",
              "      <td>0.515214</td>\n",
              "      <td>2022-09-05 11:17</td>\n",
              "      <td>T010306</td>\n",
              "      <td>A_31</td>\n",
              "      <td>0.0</td>\n",
              "      <td>0.0</td>\n",
              "      <td>0.0</td>\n",
              "      <td>0.0</td>\n",
              "      <td>...</td>\n",
              "      <td>0.00</td>\n",
              "      <td>0.00</td>\n",
              "      <td>0.00</td>\n",
              "      <td>0.00</td>\n",
              "      <td>0.00</td>\n",
              "      <td>0.0</td>\n",
              "      <td>0.0</td>\n",
              "      <td>0.0</td>\n",
              "      <td>0.0</td>\n",
              "      <td>0.0</td>\n",
              "    </tr>\n",
              "    <tr>\n",
              "      <th>594</th>\n",
              "      <td>TRAIN_594</td>\n",
              "      <td>0</td>\n",
              "      <td>0.524022</td>\n",
              "      <td>2022-09-08 22:38</td>\n",
              "      <td>T050304</td>\n",
              "      <td>A_31</td>\n",
              "      <td>0.0</td>\n",
              "      <td>0.0</td>\n",
              "      <td>0.0</td>\n",
              "      <td>0.0</td>\n",
              "      <td>...</td>\n",
              "      <td>49.47</td>\n",
              "      <td>53.07</td>\n",
              "      <td>50.89</td>\n",
              "      <td>55.10</td>\n",
              "      <td>66.49</td>\n",
              "      <td>1.0</td>\n",
              "      <td>0.0</td>\n",
              "      <td>0.0</td>\n",
              "      <td>0.0</td>\n",
              "      <td>0.0</td>\n",
              "    </tr>\n",
              "    <tr>\n",
              "      <th>595</th>\n",
              "      <td>TRAIN_595</td>\n",
              "      <td>0</td>\n",
              "      <td>0.521289</td>\n",
              "      <td>2022-09-08 22:47</td>\n",
              "      <td>T050304</td>\n",
              "      <td>A_31</td>\n",
              "      <td>0.0</td>\n",
              "      <td>0.0</td>\n",
              "      <td>0.0</td>\n",
              "      <td>0.0</td>\n",
              "      <td>...</td>\n",
              "      <td>0.00</td>\n",
              "      <td>0.00</td>\n",
              "      <td>0.00</td>\n",
              "      <td>0.00</td>\n",
              "      <td>0.00</td>\n",
              "      <td>1.0</td>\n",
              "      <td>0.0</td>\n",
              "      <td>0.0</td>\n",
              "      <td>0.0</td>\n",
              "      <td>0.0</td>\n",
              "    </tr>\n",
              "  </tbody>\n",
              "</table>\n",
              "<p>249 rows × 2881 columns</p>\n",
              "</div>\n",
              "      <button class=\"colab-df-convert\" onclick=\"convertToInteractive('df-5633c225-96cd-4a07-b103-6af9f2402f0a')\"\n",
              "              title=\"Convert this dataframe to an interactive table.\"\n",
              "              style=\"display:none;\">\n",
              "        \n",
              "  <svg xmlns=\"http://www.w3.org/2000/svg\" height=\"24px\"viewBox=\"0 0 24 24\"\n",
              "       width=\"24px\">\n",
              "    <path d=\"M0 0h24v24H0V0z\" fill=\"none\"/>\n",
              "    <path d=\"M18.56 5.44l.94 2.06.94-2.06 2.06-.94-2.06-.94-.94-2.06-.94 2.06-2.06.94zm-11 1L8.5 8.5l.94-2.06 2.06-.94-2.06-.94L8.5 2.5l-.94 2.06-2.06.94zm10 10l.94 2.06.94-2.06 2.06-.94-2.06-.94-.94-2.06-.94 2.06-2.06.94z\"/><path d=\"M17.41 7.96l-1.37-1.37c-.4-.4-.92-.59-1.43-.59-.52 0-1.04.2-1.43.59L10.3 9.45l-7.72 7.72c-.78.78-.78 2.05 0 2.83L4 21.41c.39.39.9.59 1.41.59.51 0 1.02-.2 1.41-.59l7.78-7.78 2.81-2.81c.8-.78.8-2.07 0-2.86zM5.41 20L4 18.59l7.72-7.72 1.47 1.35L5.41 20z\"/>\n",
              "  </svg>\n",
              "      </button>\n",
              "      \n",
              "  <style>\n",
              "    .colab-df-container {\n",
              "      display:flex;\n",
              "      flex-wrap:wrap;\n",
              "      gap: 12px;\n",
              "    }\n",
              "\n",
              "    .colab-df-convert {\n",
              "      background-color: #E8F0FE;\n",
              "      border: none;\n",
              "      border-radius: 50%;\n",
              "      cursor: pointer;\n",
              "      display: none;\n",
              "      fill: #1967D2;\n",
              "      height: 32px;\n",
              "      padding: 0 0 0 0;\n",
              "      width: 32px;\n",
              "    }\n",
              "\n",
              "    .colab-df-convert:hover {\n",
              "      background-color: #E2EBFA;\n",
              "      box-shadow: 0px 1px 2px rgba(60, 64, 67, 0.3), 0px 1px 3px 1px rgba(60, 64, 67, 0.15);\n",
              "      fill: #174EA6;\n",
              "    }\n",
              "\n",
              "    [theme=dark] .colab-df-convert {\n",
              "      background-color: #3B4455;\n",
              "      fill: #D2E3FC;\n",
              "    }\n",
              "\n",
              "    [theme=dark] .colab-df-convert:hover {\n",
              "      background-color: #434B5C;\n",
              "      box-shadow: 0px 1px 3px 1px rgba(0, 0, 0, 0.15);\n",
              "      filter: drop-shadow(0px 1px 2px rgba(0, 0, 0, 0.3));\n",
              "      fill: #FFFFFF;\n",
              "    }\n",
              "  </style>\n",
              "\n",
              "      <script>\n",
              "        const buttonEl =\n",
              "          document.querySelector('#df-5633c225-96cd-4a07-b103-6af9f2402f0a button.colab-df-convert');\n",
              "        buttonEl.style.display =\n",
              "          google.colab.kernel.accessAllowed ? 'block' : 'none';\n",
              "\n",
              "        async function convertToInteractive(key) {\n",
              "          const element = document.querySelector('#df-5633c225-96cd-4a07-b103-6af9f2402f0a');\n",
              "          const dataTable =\n",
              "            await google.colab.kernel.invokeFunction('convertToInteractive',\n",
              "                                                     [key], {});\n",
              "          if (!dataTable) return;\n",
              "\n",
              "          const docLinkHtml = 'Like what you see? Visit the ' +\n",
              "            '<a target=\"_blank\" href=https://colab.research.google.com/notebooks/data_table.ipynb>data table notebook</a>'\n",
              "            + ' to learn more about interactive tables.';\n",
              "          element.innerHTML = '';\n",
              "          dataTable['output_type'] = 'display_data';\n",
              "          await google.colab.output.renderOutput(dataTable, element);\n",
              "          const docLink = document.createElement('div');\n",
              "          docLink.innerHTML = docLinkHtml;\n",
              "          element.appendChild(docLink);\n",
              "        }\n",
              "      </script>\n",
              "    </div>\n",
              "  </div>\n",
              "  "
            ]
          },
          "metadata": {},
          "execution_count": 19
        }
      ]
    },
    {
      "cell_type": "markdown",
      "source": [
        "## 차원 축소 시각화"
      ],
      "metadata": {
        "id": "LpsGNAQlSWCc"
      }
    },
    {
      "cell_type": "code",
      "source": [
        "! pip install umap-learn\n",
        "! pip install pandas matplotlib datashader bokeh holoviews scikit-image colorcet"
      ],
      "metadata": {
        "id": "1Vs67IiZSZfX"
      },
      "execution_count": null,
      "outputs": []
    },
    {
      "cell_type": "code",
      "source": [
        "from sklearn.manifold import TSNE\n",
        "\n",
        "np.random.seed(160)\n",
        "tsne = TSNE(n_components=2)\n",
        "tt = tsne.fit_transform(X)\n",
        "\n",
        "tt_df = pd.DataFrame(tt, columns=['com1', 'com2'])\n",
        "tt_df['label'] = y\n",
        "\n",
        "sns.set_palette('deep')\n",
        "plt.figure(figsize=(14,14))\n",
        "sns.scatterplot(x='com1', y='com2', hue='label', data=tt_df)"
      ],
      "metadata": {
        "colab": {
          "base_uri": "https://localhost:8080/",
          "height": 841
        },
        "id": "anyS_vWqzHkx",
        "outputId": "4d60b6d7-3a42-4fcc-c64c-d53a275f3f08"
      },
      "execution_count": null,
      "outputs": [
        {
          "output_type": "execute_result",
          "data": {
            "text/plain": [
              "<matplotlib.axes._subplots.AxesSubplot at 0x7f37ff491070>"
            ]
          },
          "metadata": {},
          "execution_count": 33
        },
        {
          "output_type": "display_data",
          "data": {
            "text/plain": [
              "<Figure size 1008x1008 with 1 Axes>"
            ],
            "image/png": "[encoded data removed]"
          },
          "metadata": {
            "needs_background": "light"
          }
        }
      ]
    },
    {
      "cell_type": "code",
      "source": [
        "import umap\n",
        "\n",
        "um = umap.UMAP()\n",
        "x_umap = um.fit_transform(X)\n",
        "markers=['o','v','^']\n",
        "\n",
        "plt.figure(figsize=(10,10))\n",
        "for i,marker in enumerate(markers):\n",
        "    mask = y == i\n",
        "    plt.scatter(x_umap[mask, 0], x_umap[mask, 1], label=i, s=3, alpha=1,marker=marker)\n",
        "plt.legend(bbox_to_anchor=(1.00, 1), loc='upper left',fontsize=15)"
      ],
      "metadata": {
        "colab": {
          "base_uri": "https://localhost:8080/",
          "height": 647
        },
        "id": "Q0t2mnTDOlIt",
        "outputId": "02832db3-f639-43d2-f5cc-258770cd5976"
      },
      "execution_count": null,
      "outputs": [
        {
          "output_type": "stream",
          "name": "stderr",
          "text": [
            "/usr/local/lib/python3.8/dist-packages/sklearn/manifold/_spectral_embedding.py:260: UserWarning: Graph is not fully connected, spectral embedding may not work as expected.\n",
            "  warnings.warn(\n"
          ]
        },
        {
          "output_type": "execute_result",
          "data": {
            "text/plain": [
              "<matplotlib.legend.Legend at 0x7f7f60d95130>"
            ]
          },
          "metadata": {},
          "execution_count": 4
        },
        {
          "output_type": "display_data",
          "data": {
            "text/plain": [
              "<Figure size 720x720 with 1 Axes>"
            ],
            "image/png": "[encoded data removed]"
          },
          "metadata": {
            "needs_background": "light"
          }
        }
      ]
    },
    {
      "cell_type": "code",
      "source": [
        "import umap.plot\n",
        "mapper = umap.UMAP().fit(X)\n",
        "umap.plot.connectivity(mapper, show_points=True)"
      ],
      "metadata": {
        "colab": {
          "base_uri": "https://localhost:8080/",
          "height": 693
        },
        "id": "gnMNFki8RaE5",
        "outputId": "36be1c12-1faf-4a27-fcb2-6a962994867c"
      },
      "execution_count": null,
      "outputs": [
        {
          "output_type": "stream",
          "name": "stderr",
          "text": [
            "/usr/local/lib/python3.8/dist-packages/sklearn/manifold/_spectral_embedding.py:260: UserWarning: Graph is not fully connected, spectral embedding may not work as expected.\n",
            "  warnings.warn(\n"
          ]
        },
        {
          "output_type": "execute_result",
          "data": {
            "text/plain": [
              "<matplotlib.axes._subplots.AxesSubplot at 0x7f7ee5be3220>"
            ]
          },
          "metadata": {},
          "execution_count": 11
        },
        {
          "output_type": "display_data",
          "data": {
            "text/plain": [
              "<Figure size 800x800 with 1 Axes>"
            ],
            "image/png": "[encoded data removed]"
          },
          "metadata": {}
        }
      ]
    },
    {
      "cell_type": "code",
      "source": [
        "umap.plot.points(mapper, labels=y, theme='fire')"
      ],
      "metadata": {
        "colab": {
          "base_uri": "https://localhost:8080/",
          "height": 656
        },
        "id": "gDBrfcphSDpQ",
        "outputId": "88d7569c-b2ce-45c7-845b-d175c84c2f72"
      },
      "execution_count": null,
      "outputs": [
        {
          "output_type": "execute_result",
          "data": {
            "text/plain": [
              "<matplotlib.axes._subplots.AxesSubplot at 0x7f7ee5b75be0>"
            ]
          },
          "metadata": {},
          "execution_count": 12
        },
        {
          "output_type": "display_data",
          "data": {
            "text/plain": [
              "<Figure size 800x800 with 1 Axes>"
            ],
            "image/png": "[encoded data removed]"
          },
          "metadata": {}
        }
      ]
    },
    {
      "cell_type": "code",
      "source": [
        "import plotly\n",
        "import plotly.express as px\n",
        "from umap import UMAP\n",
        "\n",
        "umap_3d = UMAP(n_components=3, init='random', random_state=0)\n",
        "x_umap = umap_3d.fit_transform(X)\n",
        "umap_df = pd.DataFrame(x_umap)\n",
        "train_y_sr = pd.Series(y,name='label')\n",
        "print(type(x_umap))\n",
        "new_df = pd.concat([umap_df,train_y_sr],axis=1)\n",
        "fig = px.scatter_3d(\n",
        "    new_df, x=0, y=1, z=2,\n",
        "    color='label', labels={'color': 'number'}\n",
        ")\n",
        "fig.update_traces(marker_size=1)\n",
        "fig.show()"
      ],
      "metadata": {
        "colab": {
          "base_uri": "https://localhost:8080/"
        },
        "id": "MuLGXrzYSIAo",
        "outputId": "c91a674c-c1d8-4525-84ee-2617b301f280"
      },
      "execution_count": null,
      "outputs": [
        {
          "output_type": "stream",
          "name": "stdout",
          "text": [
            "<class 'numpy.ndarray'>\n"
          ]
        },
        {
          "output_type": "display_data",
          "data": {
            "text/html": [
              "<html>\n",
              "<head><meta charset=\"utf-8\" /></head>\n",
              "<body>\n",
              "    <div>            <script src=\"https://cdnjs.cloudflare.com/ajax/libs/mathjax/2.7.5/MathJax.js?config=TeX-AMS-MML_SVG\"></script><script type=\"text/javascript\">if (window.MathJax) {MathJax.Hub.Config({SVG: {font: \"STIX-Web\"}});}</script>                <script type=\"text/javascript\">window.PlotlyConfig = {MathJaxConfig: 'local'};</script>\n",
              "        <script src=\"https://cdn.plot.ly/plotly-2.8.3.min.js\"></script>                <div id=\"d7ef27ec-10ee-4ff5-a967-e438c78683c3\" class=\"plotly-graph-div\" style=\"height:525px; width:100%;\"></div>            <script type=\"text/javascript\">                                    window.PLOTLYENV=window.PLOTLYENV || {};                                    if (document.getElementById(\"d7ef27ec-10ee-4ff5-a967-e438c78683c3\")) {                    Plotly.newPlot(                        \"d7ef27ec-10ee-4ff5-a967-e438c78683c3\",                        [{\"hovertemplate\":\"0=%{x}<br>1=%{y}<br>2=%{z}<br>label=%{marker.color}<extra></extra>\",\"legendgroup\":\"\",\"marker\":{\"color\":[1,2,1,2,1,2,1,2,1,2,1,2,1,2,1,2,1,2,1,2,1,2,0,0,2,1,1,2,0,1,1,2,2,1,0,1,1,1,2,1,1,1,1,1,1,1,1,1,1,1,1,2,2,2,2,1,2,2,2,2,1,1,1,1,1,1,0,0,0,1,1,1,2,1,1,1,1,1,0,2,2,2,2,1,1,0,0,0,0,0,1,1,1,1,2,2,1,1,1,1,1,1,1,1,1,0,1,1,1,0,0,0,1,1,1,1,0,1,0,1,1,1,1,0,1,1,1,1,1,1,0,0,0,1,1,1,1,1,1,1,1,2,1,1,1,1,1,2,2,1,1,1,1,1,1,1,1,1,1,2,2,0,1,1,1,1,1,1,1,1,1,1,1,1,1,1,1,1,2,1,1,1,1,1,1,1,1,2,2,2,1,1,1,1,2,2,1,2,2,1,1,1,0,1,1,1,1,2,1,1,1,2,2,2,1,2,1,1,2,2,1,1,1,1,1,1,1,1,1,1,1,2,1,1,1,1,1,1,0,0,2,0,1,2,1,1,1,1,1,1,1,1,2,1,1,0,2,1,1,1,1,2,2,1,1,1,1,1,1,1,1,1,1,1,1,2,2,2,2,2,1,1,1,2,1,1,1,1,1,2,1,2,2,2,0,1,0,1,0,2,2,1,1,1,1,1,1,0,1,1,1,1,0,1,2,2,2,1,1,2,1,1,0,1,1,0,2,1,1,1,2,2,1,0,1,1,1,1,1,1,1,1,1,1,0,1,1,1,2,1,0,1,1,1,1,2,2,0,1,1,0,0,0,0,1,1,1,0,1,2,0,1,1,1,1,0,1,2,0,1,1,1,1,1,0,0,1,1,1,1,1,1,1,1,1,1,1,1,1,1,1,1,1,1,0,1,1,1,1,1,0,1,1,1,2,1,1,0,1,2,1,1,1,1,1,1,1,1,1,1,1,1,1,1,2,2,1,1,1,1,1,1,1,1,1,1,1,1,1,1,1,1,1,0,1,1,1,1,1,1,1,1,1,1,0,1,1,1,1,1,1,2,2,0,1,1,1,0,0,1,1,2,1,1,1,1,1,1,1,1,0,0,1,1,1,1,2,2,1,0,1,1,1,1,1,1,2,1,1,0,1,1,2,1,1,1,2,1,1,1,1,1,1,1,1,1,1,1,1,1,1,2,1,1,1,0,1,1,1,1,0,0,0,0,0,0,0,0,0,1,1,1,1,0,1,0,2,2,1,0,1,0,2,2,2,1,0,0,0,1,2,1,2,1,1,1,1,1,2,0,0,0,0,0,0,0,1,1,1,1,1,1,1,1,0,0,1,1],\"coloraxis\":\"coloraxis\",\"symbol\":\"circle\",\"size\":1},\"mode\":\"markers\",\"name\":\"\",\"scene\":\"scene\",\"showlegend\":false,\"x\":[5.363969326019287,0.022924434393644333,5.3191704750061035,-0.014342875219881535,5.306084156036377,0.015556428581476212,5.335651874542236,0.09648250043392181,5.338983058929443,0.01516538392752409,5.225314617156982,0.028259560465812683,5.296431541442871,-0.023960378021001816,5.25704288482666,0.019388137385249138,-1.9174635410308838,0.03145855292677879,-1.8189582824707031,0.05810541287064552,-1.9086283445358276,-1.8966678380966187,-9.365696907043457,5.3160481452941895,0.08266957104206085,-9.355209350585938,-10.246926307678223,-0.3905903100967407,9.92998218536377,-10.279379844665527,-9.839746475219727,-0.3897799551486969,-0.429023414850235,9.864200592041016,5.744413375854492,0.20486323535442352,-9.94836711883545,-9.816405296325684,-0.435592383146286,9.990240097045898,10.027283668518066,9.974797248840332,-9.687298774719238,-10.024613380432129,-10.290616035461426,-9.56849479675293,-9.850215911865234,-0.43723320960998535,10.02655029296875,-10.015769004821777,-9.309202194213867,-0.44186416268348694,10.125774383544922,-0.44883814454078674,-0.4390970766544342,-9.880804061889648,-9.787384986877441,10.21487808227539,10.138420104980469,10.199859619140625,-10.131220817565918,-10.27872085571289,5.99268102645874,6.677722930908203,10.26627254486084,10.287043571472168,10.345672607421875,-3.1879982948303223,-3.175624370574951,10.285711288452148,-3.196096658706665,10.23941707611084,-3.1656179428100586,-9.915111541748047,-9.797582626342773,10.250988006591797,-3.1856889724731445,10.421711921691895,-3.050384044647217,6.178802490234375,6.097668647766113,-0.44079989194869995,-0.5562358498573303,-2.9778778553009033,10.433221817016602,-9.103312492370605,-10.265305519104004,-9.241045951843262,-9.147812843322754,-9.868128776550293,10.432250022888184,-2.900078296661377,-9.768880844116211,-9.855886459350586,10.429022789001465,10.426163673400879,4.907365322113037,4.944695949554443,-9.379693984985352,-9.68494701385498,-9.63038444519043,-2.597804546356201,-2.6176915168762207,-9.727508544921875,-9.944262504577637,-9.194413185119629,-9.819771766662598,-9.120445251464844,-9.64643383026123,4.951068878173828,4.980647563934326,-1.8268074989318848,-9.49096393585205,-9.292404174804688,-9.892823219299316,-2.520063877105713,9.529449462890625,-2.530074119567871,9.559511184692383,-9.829109191894531,-10.05842113494873,-9.671432495117188,-9.385578155517578,9.546378135681152,-2.4656388759613037,-10.158354759216309,-9.377686500549316,-9.691835403442383,-9.646156311035156,9.58930492401123,-9.349873542785645,5.204030990600586,-1.8585892915725708,-9.658226013183594,-9.864432334899902,-9.352479934692383,-9.420613288879395,-9.309733390808105,-9.145023345947266,-2.3536124229431152,-2.3559515476226807,-10.239889144897461,-10.055559158325195,-9.419286727905273,-9.89771556854248,-2.3833510875701904,-2.318084955215454,-2.287093162536621,-2.3301546573638916,-9.455416679382324,-9.592262268066406,-9.626994132995605,-9.600305557250977,-9.418216705322266,-9.37878704071045,-9.274748802185059,-9.1870698928833,-9.8692626953125,-9.403289794921875,-2.2706000804901123,-2.2555289268493652,-9.717119216918945,-9.905574798583984,-9.760857582092285,-9.792708396911621,-9.855399131774902,-10.304801940917969,-9.62096118927002,-9.796041488647461,-10.334905624389648,-9.400952339172363,-10.336681365966797,-9.171432495117188,-9.788971900939941,-9.588871002197266,-9.741067886352539,-9.592769622802734,-10.138550758361816,-0.778623640537262,9.588098526000977,-10.016511917114258,-9.168346405029297,15.053037643432617,14.892029762268066,5.466403484344482,5.145495414733887,0.7895187139511108,-0.0883559063076973,-1.9880273342132568,-0.7361922860145569,9.573683738708496,-5.432781219482422,5.430436134338379,15.18747615814209,5.241488456726074,0.04736805334687233,15.023459434509277,-5.506083965301514,-0.07050132006406784,-1.9843025207519531,14.96109390258789,-5.461637020111084,-1.9817860126495361,5.199789524078369,14.893685340881348,15.271862030029297,5.497025489807129,-0.7114685773849487,9.599600791931152,14.971531867980957,15.085942268371582,-0.7462638020515442,-0.7040753960609436,-0.7338769435882568,0.9880101084709167,5.2978997230529785,15.078306198120117,15.016719818115234,-0.7339969277381897,-0.703137218952179,9.59057903289795,-0.999729335308075,-1.0121707916259766,-1.105454444885254,-1.0782535076141357,15.147817611694336,15.190515518188477,5.348053455352783,0.8674861788749695,13.49342155456543,13.565112113952637,-5.442974090576172,0.8018388152122498,5.165369987487793,15.346141815185547,14.02290153503418,14.026243209838867,14.87861156463623,15.358572006225586,15.172982215881348,15.132495880126953,15.325539588928223,5.166634559631348,15.3427734375,15.346674919128418,5.381252288818359,-5.457951068878174,14.973026275634766,-5.481470108032227,5.882223129272461,-1.8890300989151,1.07549250125885,-5.478910446166992,15.153096199035645,14.982616424560547,5.946052551269531,0.1399891972541809,5.30642032623291,15.318620681762695,15.326120376586914,5.220396041870117,0.11423288285732269,5.302609443664551,15.439522743225098,15.39362907409668,5.237834453582764,15.216436386108398,15.223699569702148,5.17048454284668,-5.414548873901367,-5.405356407165527,0.8827919363975525,-5.443264484405518,-5.435714244842529,15.1189603805542,15.362082481384277,5.182397842407227,15.164329528808594,15.325757026672363,15.248343467712402,0.8747150301933289,15.115574836730957,15.055214881896973,15.096158027648926,4.954477310180664,14.984331130981445,-1.254548192024231,-1.2406775951385498,14.987621307373047,15.131174087524414,12.741196632385254,12.6516695022583,13.002766609191895,12.971450805664062,14.032482147216797,14.052434921264648,-0.6377887725830078,11.200724601745605,-0.6598630547523499,15.268744468688965,15.222282409667969,4.884701728820801,4.889434337615967,6.6750359535217285,6.6382012367248535,4.894398212432861,15.0477294921875,-0.6818191409111023,4.864288806915283,4.8640055656433105,15.105779647827148,12.865249633789062,12.950359344482422,4.849240303039551,11.181062698364258,6.051537990570068,-0.6083980202674866,5.025746822357178,15.000444412231445,1.1027804613113403,11.171247482299805,6.070563793182373,11.195363998413086,11.196846008300781,0.893897533416748,15.004769325256348,4.7628068923950195,4.918473720550537,4.926247596740723,4.818892955780029,0.8823513984680176,0.9493888020515442,14.790843963623047,14.798635482788086,14.782381057739258,11.163827896118164,-0.4880548417568207,11.165471076965332,6.105813503265381,15.1691312789917,6.123793125152588,15.25382137298584,11.155570983886719,15.208365440368652,6.155825614929199,15.244943618774414,11.205305099487305,4.990678787231445,15.042163848876953,14.98989200592041,5.16334342956543,5.137380123138428,15.37718391418457,5.4488067626953125,15.459896087646484,-0.5749892592430115,-0.5853394269943237,11.234643936157227,1.045279860496521,15.06639575958252,11.245719909667969,6.191441535949707,6.194574356079102,6.2296552658081055,15.040750503540039,15.056459426879883,6.171023368835449,6.2094597816467285,6.253803253173828,-0.6002606749534607,6.256551742553711,5.014997482299805,1.0021181106567383,15.391910552978516,15.561718940734863,11.20633316040039,15.368921279907227,1.0480529069900513,1.1856998205184937,4.825984477996826,15.322916030883789,1.1684057712554932,5.021820068359375,15.39262580871582,6.192146301269531,11.264968872070312,15.6541109085083,1.0891615152359009,4.932861328125,1.1433541774749756,14.912342071533203,14.999137878417969,5.059640407562256,15.486870765686035,4.8600945472717285,15.476106643676758,15.364008903503418,1.0518019199371338,5.015705108642578,1.2309889793395996,15.655327796936035,5.039934158325195,15.611090660095215,15.261027336120605,12.860512733459473,12.830645561218262,4.767880916595459,4.736586570739746,15.592717170715332,4.931430816650391,-1.2669627666473389,-1.2639485597610474,5.070888042449951,15.573912620544434,1.2202394008636475,4.80519962310791,4.841372966766357,4.903033256530762,15.315263748168945,-2.202800989151001,15.477055549621582,1.3017339706420898,15.852533340454102,15.810608863830566,13.870505332946777,13.854957580566406,4.725245475769043,-5.439429759979248,4.611731052398682,4.94521427154541,15.712808609008789,15.73521900177002,-0.3817920684814453,-1.8514658212661743,-5.39072322845459,15.751513481140137,14.548824310302734,14.59528923034668,4.982396125793457,15.673381805419922,1.2435457706451416,4.800024032592773,4.901538372039795,4.855405330657959,-0.28446924686431885,4.860780239105225,15.812909126281738,4.784334182739258,4.8657450675964355,15.301545143127441,15.309224128723145,-5.401845932006836,15.649619102478027,-1.8047083616256714,-0.2661436200141907,12.743029594421387,12.755824089050293,4.745250701904297,-5.384543418884277,15.885658264160156,15.932939529418945,15.781023025512695,-5.390346050262451,15.939462661743164,15.73187255859375,1.303642988204956,15.977158546447754,4.6350836753845215,15.546148300170898,15.83935260772705,16.106698989868164,-1.1006112098693848,-1.070838212966919,15.705970764160156,4.5366363525390625,4.602350234985352,4.526620864868164,-0.15995709598064423,-1.858223795890808,14.669600486755371,14.715476036071777,15.95457935333252,4.438324928283691,-5.411652088165283,15.858139038085938,15.6029052734375,15.608663558959961,1.2382781505584717,4.4726362228393555,4.4244384765625,14.495356559753418,14.508872985839844,15.865057945251465,15.791402816772461,4.4964280128479,4.52630615234375,4.920895099639893,1.3138694763183594,4.7640461921691895,4.6071858406066895,14.452752113342285,14.57749080657959,4.320202350616455,4.4343037605285645,4.317520618438721,4.253239631652832,4.274823188781738,1.34791898727417,4.259305000305176,4.266433238983154,-5.310126304626465,8.526542663574219,8.398991584777832,4.733666896820068,4.457615852355957,4.580833911895752,8.535865783691406,4.6883320808410645,8.482298851013184,4.710695266723633,8.300819396972656,13.38729190826416,-5.320720672607422,13.441134452819824,4.659403324127197,1.309354305267334,8.401520729064941,4.447170257568359,4.742144584655762,1.3283638954162598,12.804121971130371,12.876348495483398,4.520264148712158,8.31039810180664,1.2825242280960083,8.35412311553955,8.289629936218262,8.376077651977539,-5.311230182647705,8.379308700561523,5.525869369506836,-0.741489052772522,-0.7428627014160156,-0.693865954875946,-0.7409341335296631,-0.7155536413192749,-0.6817548871040344,5.469432830810547,5.473850250244141,-0.649838924407959,-0.6252181529998779,-0.4943726062774658,-0.5419243574142456,13.290173530578613,13.383831977844238,-0.6200235486030579,4.945874214172363,5.015759468078613,5.361311435699463,8.395413398742676,8.352703094482422,5.246204853057861,5.4168219566345215,6.624135971069336,5.4330644607543945,-5.314757823944092,8.266349792480469,8.278802871704102,8.053228378295898,5.259742736816406,8.39243221282959,5.2491774559021,8.387557029724121,5.483073711395264,6.66889762878418,5.466272354125977,6.624106407165527,8.30774974822998,8.274689674377441,5.561946868896484,-1.9715478420257568,-1.9839656352996826,5.5609450340271,6.630757808685303,12.916996955871582,12.89449405670166,15.83538818359375,15.745728492736816,15.79017448425293,15.805889129638672,15.800402641296387,15.778980255126953,15.766308784484863,15.770570755004883,-1.9733160734176636,-1.9688705205917358,15.791418075561523,15.806351661682129],\"y\":[13.29219913482666,5.240957736968994,13.294716835021973,5.203306674957275,13.255144119262695,5.235937118530273,13.281490325927734,5.304988384246826,13.29100513458252,5.192508220672607,13.198493957519531,5.252645492553711,13.226667404174805,5.2035136222839355,13.309591293334961,5.196067810058594,6.239404201507568,5.238637447357178,6.254941940307617,5.264287948608398,6.238428592681885,6.258732318878174,10.141715049743652,3.9862582683563232,5.355340003967285,9.659928321838379,9.904434204101562,-0.28914302587509155,12.356182098388672,9.972182273864746,9.524163246154785,-0.2898251712322235,-0.25006091594696045,12.291656494140625,13.879056930541992,5.247687816619873,10.102618217468262,9.751395225524902,-0.2377224564552307,12.43343448638916,12.475384712219238,12.418603897094727,9.701281547546387,9.792170524597168,9.95911979675293,9.83920955657959,9.811254501342773,-0.24303151667118073,12.473800659179688,9.761645317077637,10.646787643432617,-0.23645779490470886,12.599492073059082,-0.22955948114395142,-0.23954199254512787,9.749349594116211,9.5946626663208,12.702054023742676,12.619593620300293,12.68764877319336,10.052421569824219,9.941082000732422,14.462878227233887,13.570114135742188,12.77022647857666,12.777350425720215,12.835505485534668,0.09634437412023544,0.08972278237342834,12.76276969909668,0.09242565929889679,12.810623168945312,0.06866432726383209,10.199847221374512,9.896647453308105,12.739792823791504,0.08985846489667892,12.925603866577148,0.11504209041595459,15.002955436706543,14.947136878967285,6.767590522766113,6.721519947052002,0.1337108612060547,12.936748504638672,10.143471717834473,9.995936393737793,10.356499671936035,10.11396598815918,9.512736320495605,12.940461158752441,0.14446432888507843,9.590456008911133,9.779483795166016,12.93486499786377,12.934308052062988,13.171673774719238,13.145195007324219,10.353075981140137,9.865965843200684,9.640707015991211,0.19495347142219543,0.19436492025852203,9.573919296264648,9.518196105957031,10.08073616027832,9.77791976928711,10.249683380126953,9.693723678588867,13.08237075805664,13.152766227722168,6.293245792388916,10.478224754333496,10.429703712463379,10.17237663269043,0.24197158217430115,11.75449275970459,0.20385199785232544,11.790274620056152,9.54519271850586,9.765213012695312,9.9203519821167,9.83244514465332,11.773761749267578,0.22770898044109344,10.063178062438965,10.322809219360352,9.778672218322754,9.70018196105957,11.820253372192383,10.59667682647705,13.22008991241455,6.313779354095459,10.031773567199707,9.564094543457031,10.207295417785645,10.43427848815918,10.648706436157227,10.372034072875977,0.2532278001308441,0.27111172676086426,9.99515438079834,9.79450798034668,10.583578109741211,9.89970588684082,0.21290336549282074,0.2507741153240204,0.21581155061721802,0.22716224193572998,10.200530052185059,10.035309791564941,9.947622299194336,10.425644874572754,10.283246040344238,10.484795570373535,10.400887489318848,10.36042594909668,9.515595436096191,10.592342376708984,0.29208171367645264,0.2772659361362457,9.757274627685547,9.938666343688965,9.931325912475586,9.872906684875488,10.087700843811035,9.986836433410645,10.04583740234375,9.83771800994873,10.084031105041504,10.294939994812012,10.021371841430664,10.1357421875,9.65938663482666,10.301589965820312,9.710902214050293,10.044438362121582,9.910611152648926,0.45051705837249756,11.818550109863281,10.045245170593262,10.321364402770996,-6.890803337097168,-6.990627765655518,4.960254192352295,5.029224395751953,-1.1359562873840332,5.673407077789307,6.0542097091674805,0.46793967485427856,11.815610885620117,2.677706003189087,5.019306659698486,-7.01104211807251,4.915431499481201,5.273281574249268,-6.893872261047363,2.5755233764648438,5.650367259979248,6.022658824920654,-6.484988689422607,2.6322264671325684,6.048314571380615,4.862837314605713,-6.670678615570068,-6.9455671310424805,4.393409729003906,0.4461345076560974,11.837303161621094,-6.8331379890441895,-6.897669792175293,0.45896437764167786,0.4561023414134979,0.46975550055503845,-0.9862412214279175,5.01840877532959,-6.882044315338135,-6.946986675262451,0.4850524365901947,0.4714803695678711,11.829524993896484,0.46894538402557373,0.49385082721710205,0.5330663323402405,0.5316499471664429,-6.837486267089844,-6.845713138580322,4.982100486755371,-1.0746583938598633,6.453425884246826,6.454455852508545,2.6257007122039795,-1.0293045043945312,4.992539405822754,-6.780065536499023,6.425343036651611,6.428915023803711,-6.685097694396973,-6.7330241203308105,6.228166103363037,6.2628278732299805,-6.590020656585693,5.027583122253418,6.254604339599609,6.212193012237549,4.993081092834473,2.5961215496063232,-6.459559917449951,2.5668649673461914,14.24436092376709,6.091023921966553,-0.9470648169517517,2.5115435123443604,-6.87309455871582,-6.762553691864014,14.356863021850586,5.325151443481445,4.741581916809082,-6.518765449523926,-6.699925422668457,5.071375846862793,5.346098899841309,4.911840438842773,-6.79636287689209,-6.6076154708862305,4.580202579498291,-6.4842376708984375,-6.45595121383667,4.967817306518555,2.6258978843688965,2.5709636211395264,-1.1232399940490723,2.5886242389678955,2.566063404083252,-6.212696552276611,-6.387044906616211,4.7542619705200195,-6.167849063873291,-6.6754469871521,-6.309093952178955,-1.0220869779586792,6.243694305419922,-6.255029201507568,6.272897243499756,4.581911563873291,-5.539249897003174,0.5553692579269409,0.5634607076644897,-6.366892337799072,-6.0958452224731445,6.449007987976074,6.461363792419434,6.4516282081604,6.418543338775635,6.455418586730957,6.420770168304443,6.579428195953369,5.773483753204346,6.788828372955322,6.242774963378906,6.262368679046631,4.5584330558776855,4.586093902587891,13.55895709991455,13.537250518798828,4.515223503112793,-5.586452960968018,7.045231819152832,4.653450012207031,4.493403911590576,-5.656466007232666,6.373145580291748,6.403050899505615,4.514451026916504,5.794837951660156,14.653295516967773,6.85178804397583,4.561439037322998,-5.542126178741455,-0.9473013281822205,5.805021286010742,14.703972816467285,5.7808122634887695,5.779788970947266,-1.1270980834960938,-5.566141128540039,4.430461883544922,4.581742286682129,4.6032538414001465,4.527498722076416,-1.1551867723464966,-1.141089916229248,6.3395562171936035,6.330496311187744,6.3218536376953125,5.812780380249023,6.369106292724609,5.811099052429199,14.753325462341309,6.24832010269165,14.78941535949707,6.227797985076904,5.821031093597412,-6.142279148101807,14.841561317443848,-6.073812007904053,5.771368503570557,4.619408130645752,-5.725850582122803,-6.2556538581848145,4.896370887756348,4.147266864776611,-6.27244234085083,3.9500889778137207,-6.106661796569824,6.823873519897461,6.878620147705078,5.742063999176025,-0.8793964385986328,-5.601365566253662,5.730999946594238,14.90988826751709,14.975055694580078,15.01369857788086,-5.58445930480957,-5.626891136169434,14.998631477355957,14.98507308959961,15.053770065307617,6.815686225891113,15.065768241882324,4.266345500946045,-1.05519437789917,-6.012768268585205,-6.289227485656738,5.770230770111084,-6.00216007232666,-1.0344231128692627,-0.9238346815109253,3.913970947265625,-6.167141437530518,-0.9109482169151306,3.7106919288635254,-5.958181381225586,15.008559226989746,5.711745262145996,-5.96199369430542,-0.8995788097381592,3.854505777359009,-0.9035158157348633,6.34036111831665,6.312816143035889,3.4215197563171387,-5.950162410736084,3.24548077583313,-5.9397501945495605,-5.713248252868652,-1.0345884561538696,3.4368960857391357,-0.8541513085365295,-5.689940929412842,3.5707075595855713,-5.876479148864746,-5.61183500289917,6.414217472076416,6.473474502563477,3.8266303539276123,3.6644790172576904,-5.825911998748779,3.106640577316284,0.5843760967254639,0.5378527641296387,3.5018975734710693,-5.575584888458252,-0.9327389001846313,3.3829400539398193,3.4538424015045166,3.6813671588897705,6.2369890213012695,0.2448689043521881,-5.8062825202941895,-0.866680920124054,-5.552427291870117,-5.482525825500488,6.415551662445068,6.392683029174805,3.4972152709960938,2.633145570755005,3.400017261505127,3.46836256980896,-5.584334373474121,-5.91711950302124,6.259763240814209,6.320470333099365,2.5156519412994385,-6.001170635223389,6.420299530029297,6.462637424468994,3.3220574855804443,-5.4921979904174805,-0.8392632007598877,3.3050785064697266,3.106635808944702,3.2588298320770264,6.164340496063232,3.295409679412842,-5.55419921875,3.45348858833313,3.5366482734680176,6.238744258880615,6.247682571411133,2.4674596786499023,-5.793033599853516,6.376131057739258,6.061776638031006,6.436521530151367,6.420743942260742,3.055387020111084,2.545930862426758,-5.457946300506592,-5.574512004852295,-5.562678337097168,2.4506921768188477,-5.710745334625244,-5.571877479553223,-0.8993369340896606,-5.470135688781738,3.332862615585327,-5.554310321807861,-5.61099910736084,-5.610226631164551,0.5141913890838623,0.5384421348571777,-5.601526260375977,3.201227903366089,3.0327470302581787,3.226902484893799,5.825262069702148,6.293435573577881,6.39927339553833,6.3803300857543945,-5.572878360748291,2.9460079669952393,2.482228994369507,-5.472694396972656,-5.525728702545166,-5.562097072601318,-0.9043171405792236,3.0834264755249023,2.9754152297973633,6.41398286819458,6.412602424621582,-5.803529739379883,-5.617447853088379,3.1434943675994873,3.1862921714782715,3.079284906387329,-0.8421494960784912,2.856555461883545,2.7486650943756104,6.373331069946289,6.4051594734191895,2.7731082439422607,2.9042978286743164,2.7568492889404297,2.769073486328125,2.7571346759796143,-0.8243711590766907,2.8305442333221436,2.8224480152130127,2.770906686782837,5.345794677734375,5.447630405426025,2.876854419708252,2.8940725326538086,2.9336349964141846,5.434836387634277,2.88525652885437,5.497888565063477,2.9022281169891357,5.557639122009277,6.422543048858643,2.7719058990478516,6.415090560913086,2.8111448287963867,-0.8426036834716797,5.471574306488037,3.0609989166259766,2.805464029312134,-0.8387784361839294,6.4476637840271,6.49758768081665,2.8269102573394775,5.477456569671631,-0.8771247863769531,5.484921455383301,5.556248664855957,5.543964862823486,2.772242784500122,5.57884407043457,13.46576976776123,6.996612071990967,6.999741077423096,6.931970119476318,6.995398998260498,6.956471920013428,6.954324722290039,4.6717753410339355,4.760472297668457,6.661920070648193,6.713134288787842,6.3677167892456055,6.362861633300781,6.422858238220215,6.424708366394043,6.6740498542785645,13.123544692993164,13.162677764892578,4.589535713195801,5.515182971954346,5.491970539093018,4.702158451080322,13.358855247497559,13.52878475189209,13.387651443481445,2.7845304012298584,5.5280585289001465,5.452885150909424,5.354005336761475,4.872583389282227,5.659381866455078,4.883831024169922,5.725204944610596,13.43920612335205,13.548521995544434,13.415217399597168,13.506558418273926,5.634835720062256,5.4921875,13.589544296264648,6.097736358642578,6.055873394012451,13.59000015258789,13.50819206237793,6.399070739746094,6.380816459655762,4.781590461730957,4.692018032073975,4.736517906188965,4.752172946929932,4.7467875480651855,4.725241661071777,4.712717056274414,4.716922760009766,6.050909042358398,6.061544895172119,4.738125801086426,4.754329681396484],\"z\":[10.668498992919922,-3.3938968181610107,10.718388557434082,-3.4100193977355957,10.720855712890625,-3.391871690750122,10.699198722839355,-3.315286874771118,10.697783470153809,-3.4320898056030273,10.786815643310547,-3.3812999725341797,10.736268043518066,-3.43133544921875,10.775081634521484,-3.414107322692871,17.310054779052734,-3.381944179534912,17.28997039794922,-3.3544046878814697,17.346433639526367,17.323110580444336,6.8597259521484375,13.969892501831055,-3.2664036750793457,7.28259801864624,7.277589797973633,5.372177600860596,-2.6932802200317383,7.262591361999512,8.639481544494629,5.358442783355713,5.397502899169922,-2.7550172805786133,10.417219161987305,-3.206313371658325,7.020903587341309,7.116860389709473,5.4058427810668945,-2.6623809337615967,-2.606961488723755,-2.677799701690674,8.69875431060791,7.191436290740967,7.511195182800293,7.037258625030518,7.083086967468262,5.407309532165527,-2.6342620849609375,7.2749714851379395,7.087200164794922,5.415425777435303,-2.5969927310943604,5.425168514251709,5.410498142242432,8.532432556152344,8.707419395446777,-2.620838165283203,-2.626164197921753,-2.6297836303710938,7.050865650177002,7.474212646484375,10.239086151123047,10.357198715209961,-2.7231202125549316,-2.6888623237609863,-2.7607381343841553,5.275012016296387,5.288600444793701,-2.7333807945251465,5.269253253936768,-2.6900508403778076,5.296234607696533,7.031159400939941,8.239076614379883,-2.77351713180542,5.274598121643066,-2.596766948699951,5.388963222503662,9.970909118652344,9.891682624816895,-2.627931833267212,-2.6923234462738037,5.455199718475342,-2.597062826156616,6.849085330963135,7.358736991882324,6.767637729644775,6.883346080780029,8.608161926269531,-2.57928204536438,5.510762691497803,8.66839599609375,7.045949459075928,-2.5653111934661865,-2.579057216644287,11.050527572631836,11.0101900100708,7.264537811279297,8.119498252868652,8.423613548278809,5.757821559906006,5.733842849731445,8.552624702453613,8.296287536621094,7.311304092407227,7.068429470062256,6.712501049041748,8.436131477355957,11.027716636657715,10.981741905212402,17.309038162231445,7.092468738555908,6.84169340133667,6.984004020690918,5.810109615325928,-3.0040202140808105,5.796630382537842,-2.976532220840454,8.6528959274292,7.308587074279785,7.936431407928467,7.073853969573975,-2.9886419773101807,5.854515552520752,7.408221244812012,7.560684680938721,8.261737823486328,8.443623542785645,-2.9469783306121826,7.098900318145752,10.804060935974121,17.251394271850586,7.93460750579834,8.613155364990234,7.6037373542785645,7.241445541381836,7.299696922302246,6.6597723960876465,5.9397454261779785,5.958431720733643,7.419227600097656,7.2314887046813965,7.060359001159668,7.129419326782227,5.886340618133545,5.94201135635376,5.9277167320251465,5.900460720062256,7.777398586273193,7.767181396484375,7.062464237213135,6.989120006561279,7.666872978210449,6.990045070648193,7.434988975524902,6.771998882293701,8.630831718444824,7.1482696533203125,5.954694747924805,5.9413886070251465,7.1169562339782715,7.054655075073242,8.1696138381958,8.286161422729492,7.101564884185791,7.332574367523193,7.599494934082031,8.296480178833008,7.289822101593018,7.355569362640381,7.293302059173584,7.315444469451904,8.576215744018555,6.942646503448486,7.203827857971191,7.587263107299805,7.286864757537842,6.028353691101074,-2.9471304416656494,7.068691253662109,6.7118401527404785,1.3337211608886719,1.2029411792755127,14.350286483764648,14.544622421264648,9.879308700561523,-3.1663074493408203,17.633047103881836,6.007615566253662,-2.96781587600708,-0.5458081364631653,14.312384605407715,1.4258660078048706,14.498132705688477,-3.332766056060791,1.2870972156524658,-0.5900810956954956,-3.183877468109131,17.71271324157715,1.417680025100708,-0.5905007719993591,17.662330627441406,14.461380958557129,1.3083287477493286,1.4336340427398682,14.107011795043945,6.010929584503174,-2.9389266967773438,1.324364185333252,1.3813743591308594,5.992584228515625,5.998148441314697,5.973921775817871,9.966604232788086,14.43603515625,1.3982641696929932,1.3155386447906494,5.951327323913574,5.941567420959473,-2.9487524032592773,5.79306173324585,5.827324390411377,5.759627342224121,5.811445236206055,1.313032865524292,1.4010330438613892,14.359482765197754,10.04686450958252,4.774659633636475,4.83119535446167,-0.6491430401802063,9.998269081115723,14.521921157836914,1.3422510623931885,5.047868251800537,5.047085285186768,1.3665814399719238,1.3536348342895508,5.763212203979492,5.719592094421387,1.314444661140442,14.499171257019043,5.92641544342041,5.931733131408691,14.21615219116211,-0.6619254350662231,1.316691279411316,-0.6667534708976746,10.313576698303223,17.74898910522461,9.899258613586426,-0.6214518547058105,1.2623560428619385,1.520226001739502,10.273517608642578,-3.2563796043395996,14.383302688598633,1.7077945470809937,1.4067655801773071,14.36043643951416,-3.256563901901245,14.375016212463379,1.542771577835083,1.6487706899642944,14.244693756103516,1.3773531913757324,1.4647021293640137,14.426840782165527,-0.6749814748764038,-0.7189629077911377,9.897887229919434,-0.6814778447151184,-0.7361462116241455,1.439254641532898,1.777064561843872,14.314057350158691,1.5209250450134277,1.5638468265533447,1.3801325559616089,9.895716667175293,5.709242820739746,1.397877812385559,5.696135520935059,13.697179794311523,0.8796745538711548,5.668816089630127,5.655536651611328,1.4199166297912598,1.4200596809387207,4.37323522567749,4.301084995269775,4.592324733734131,4.537164211273193,5.047484874725342,5.060385227203369,-2.8492555618286133,-8.554813385009766,-2.674964427947998,5.8544111251831055,5.807971477508545,13.771256446838379,13.684990882873535,10.364727020263672,10.394076347351074,13.761838912963867,0.943146288394928,-2.500605583190918,13.76021957397461,13.658000946044922,1.0150457620620728,4.435509204864502,4.532308578491211,13.698006629943848,-8.535239219665527,10.12328815460205,-2.6677911281585693,13.777308464050293,0.8906611800193787,9.966507911682129,-8.525776863098145,10.095372200012207,-8.549838066101074,-8.551023483276367,10.122010231018066,0.9190255999565125,13.618815422058105,13.734589576721191,13.752054214477539,13.7736177444458,10.151391983032227,10.11086368560791,5.484814643859863,5.49415397644043,5.48342227935791,-8.518516540527344,-2.961806297302246,-8.520211219787598,10.08104419708252,5.760156154632568,10.068849563598633,5.841647148132324,-8.510339736938477,1.5411306619644165,10.02984619140625,1.7032790184020996,-8.56005573272705,14.032547950744629,1.091705560684204,1.5482405424118042,14.38331127166748,14.03664493560791,1.8232158422470093,13.892053604125977,1.9573475122451782,-2.6352076530456543,-2.5848793983459473,-8.589435577392578,10.314035415649414,0.9797520637512207,-8.600590705871582,10.066816329956055,10.007665634155273,9.974424362182617,0.9250676035881042,0.9908643960952759,10.028178215026855,10.00898551940918,9.983980178833008,-2.631704807281494,9.935606956481934,14.115008354187012,9.91782283782959,1.7038986682891846,2.0328574180603027,-8.561193466186523,1.6972333192825317,10.06266975402832,9.98020076751709,14.079724311828613,1.973201870918274,10.00421142578125,13.898909568786621,2.02285099029541,9.973434448242188,-8.619754791259766,1.9944559335708618,10.122496604919434,14.038932800292969,10.121468544006348,5.557723522186279,5.632841110229492,13.828753471374512,2.1490163803100586,14.280202865600586,2.1463794708251953,2.0413429737091064,9.986004829406738,13.932042121887207,9.975625038146973,2.187131643295288,13.791141510009766,1.871090054512024,1.466109037399292,4.478492259979248,4.402470588684082,13.787579536437988,14.081103324890137,2.031099557876587,14.246844291687012,5.636845588684082,5.690743446350098,13.925095558166504,2.0924317836761475,9.899002075195312,14.252861022949219,14.212027549743652,14.028539657592773,5.900539398193359,5.911213397979736,2.1408557891845703,10.049517631530762,2.2814881801605225,2.176162004470825,4.962894439697266,4.959866523742676,14.249892234802246,-0.7393529415130615,14.140538215637207,13.91631031036377,2.114226818084717,2.244833469390869,-2.9183640480041504,17.277450561523438,-0.809295654296875,2.2324814796447754,5.316878795623779,5.348167419433594,13.863998413085938,2.3001255989074707,10.116521835327148,14.10479736328125,14.1445894241333,14.158559799194336,-2.9284706115722656,13.889795303344727,2.365422010421753,13.859563827514648,14.028103828430176,5.8857526779174805,5.894431114196777,-0.8491935729980469,2.359316110610962,17.220382690429688,-3.0023293495178223,4.384871006011963,4.38895845413208,14.169317245483398,-0.7873257398605347,2.4002439975738525,2.5196006298065186,2.2905328273773193,-0.8905901312828064,2.474785089492798,2.4184789657592773,10.023157119750977,2.4309592247009277,14.2556734085083,2.480076313018799,2.473093032836914,2.385936975479126,5.776127338409424,5.774277687072754,2.4378774166107178,13.884796142578125,14.288129806518555,14.165797233581543,-3.101081132888794,17.289134979248047,5.400463581085205,5.433880805969238,2.5047216415405273,14.035406112670898,-0.843771755695343,2.4137938022613525,2.520970582962036,2.4681382179260254,9.991678237915039,14.093669891357422,14.141053199768066,5.28464412689209,5.2923970222473145,2.408357858657837,2.4970922470092773,13.999464988708496,13.88619613647461,13.708614349365234,10.061985969543457,13.616092681884766,13.636341094970703,5.232055187225342,5.338920593261719,13.703197479248047,13.507479667663574,13.642105102539062,13.707575798034668,13.680724143981934,10.048667907714844,13.638057708740234,13.64953327178955,-0.43043938279151917,13.228219032287598,13.171548843383789,13.624987602233887,13.943817138671875,14.120619773864746,13.290083885192871,14.166664123535156,13.287496566772461,14.146614074707031,13.07354736328125,4.721394062042236,-0.4307660460472107,4.7593607902526855,13.669927597045898,10.102540969848633,13.177774429321289,13.812068939208984,13.689006805419922,10.060810089111328,4.440733909606934,4.492922306060791,13.834035873413086,13.08950138092041,10.049375534057617,13.103260040283203,13.09395980834961,13.160880088806152,-0.45737776160240173,13.099837303161621,10.647444725036621,-2.5299949645996094,-2.523942708969116,-2.6073696613311768,-2.5678062438964844,-2.569335699081421,-2.565105676651001,14.26103687286377,14.216292381286621,-2.750075340270996,-2.639805793762207,-2.951112985610962,-2.9836935997009277,4.67954683303833,4.7267937660217285,-2.7517802715301514,11.014522552490234,10.951726913452148,14.261717796325684,13.172282218933105,13.100704193115234,14.360315322875977,10.63960075378418,10.394349098205566,10.619203567504883,-0.4144945442676544,13.09664249420166,13.016576766967773,13.261664390563965,14.392852783203125,13.26706600189209,14.336190223693848,13.3289213180542,10.614197731018066,10.372364044189453,10.62252426147461,10.413714408874512,13.167139053344727,13.059471130371094,10.52966022491455,17.567293167114258,17.645030975341797,10.543437957763672,10.411881446838379,4.50203275680542,4.47515344619751,-0.4824875295162201,-0.5719693899154663,-0.5274330973625183,-0.5117990970611572,-0.5170267224311829,-0.5387021899223328,-0.5512241721153259,-0.5470333695411682,17.657438278198242,17.654123306274414,-0.5253098607063293,-0.5071902871131897],\"type\":\"scatter3d\"}],                        {\"template\":{\"data\":{\"bar\":[{\"error_x\":{\"color\":\"#2a3f5f\"},\"error_y\":{\"color\":\"#2a3f5f\"},\"marker\":{\"line\":{\"color\":\"#E5ECF6\",\"width\":0.5},\"pattern\":{\"fillmode\":\"overlay\",\"size\":10,\"solidity\":0.2}},\"type\":\"bar\"}],\"barpolar\":[{\"marker\":{\"line\":{\"color\":\"#E5ECF6\",\"width\":0.5},\"pattern\":{\"fillmode\":\"overlay\",\"size\":10,\"solidity\":0.2}},\"type\":\"barpolar\"}],\"carpet\":[{\"aaxis\":{\"endlinecolor\":\"#2a3f5f\",\"gridcolor\":\"white\",\"linecolor\":\"white\",\"minorgridcolor\":\"white\",\"startlinecolor\":\"#2a3f5f\"},\"baxis\":{\"endlinecolor\":\"#2a3f5f\",\"gridcolor\":\"white\",\"linecolor\":\"white\",\"minorgridcolor\":\"white\",\"startlinecolor\":\"#2a3f5f\"},\"type\":\"carpet\"}],\"choropleth\":[{\"colorbar\":{\"outlinewidth\":0,\"ticks\":\"\"},\"type\":\"choropleth\"}],\"contour\":[{\"colorbar\":{\"outlinewidth\":0,\"ticks\":\"\"},\"colorscale\":[[0.0,\"#0d0887\"],[0.1111111111111111,\"#46039f\"],[0.2222222222222222,\"#7201a8\"],[0.3333333333333333,\"#9c179e\"],[0.4444444444444444,\"#bd3786\"],[0.5555555555555556,\"#d8576b\"],[0.6666666666666666,\"#ed7953\"],[0.7777777777777778,\"#fb9f3a\"],[0.8888888888888888,\"#fdca26\"],[1.0,\"#f0f921\"]],\"type\":\"contour\"}],\"contourcarpet\":[{\"colorbar\":{\"outlinewidth\":0,\"ticks\":\"\"},\"type\":\"contourcarpet\"}],\"heatmap\":[{\"colorbar\":{\"outlinewidth\":0,\"ticks\":\"\"},\"colorscale\":[[0.0,\"#0d0887\"],[0.1111111111111111,\"#46039f\"],[0.2222222222222222,\"#7201a8\"],[0.3333333333333333,\"#9c179e\"],[0.4444444444444444,\"#bd3786\"],[0.5555555555555556,\"#d8576b\"],[0.6666666666666666,\"#ed7953\"],[0.7777777777777778,\"#fb9f3a\"],[0.8888888888888888,\"#fdca26\"],[1.0,\"#f0f921\"]],\"type\":\"heatmap\"}],\"heatmapgl\":[{\"colorbar\":{\"outlinewidth\":0,\"ticks\":\"\"},\"colorscale\":[[0.0,\"#0d0887\"],[0.1111111111111111,\"#46039f\"],[0.2222222222222222,\"#7201a8\"],[0.3333333333333333,\"#9c179e\"],[0.4444444444444444,\"#bd3786\"],[0.5555555555555556,\"#d8576b\"],[0.6666666666666666,\"#ed7953\"],[0.7777777777777778,\"#fb9f3a\"],[0.8888888888888888,\"#fdca26\"],[1.0,\"#f0f921\"]],\"type\":\"heatmapgl\"}],\"histogram\":[{\"marker\":{\"pattern\":{\"fillmode\":\"overlay\",\"size\":10,\"solidity\":0.2}},\"type\":\"histogram\"}],\"histogram2d\":[{\"colorbar\":{\"outlinewidth\":0,\"ticks\":\"\"},\"colorscale\":[[0.0,\"#0d0887\"],[0.1111111111111111,\"#46039f\"],[0.2222222222222222,\"#7201a8\"],[0.3333333333333333,\"#9c179e\"],[0.4444444444444444,\"#bd3786\"],[0.5555555555555556,\"#d8576b\"],[0.6666666666666666,\"#ed7953\"],[0.7777777777777778,\"#fb9f3a\"],[0.8888888888888888,\"#fdca26\"],[1.0,\"#f0f921\"]],\"type\":\"histogram2d\"}],\"histogram2dcontour\":[{\"colorbar\":{\"outlinewidth\":0,\"ticks\":\"\"},\"colorscale\":[[0.0,\"#0d0887\"],[0.1111111111111111,\"#46039f\"],[0.2222222222222222,\"#7201a8\"],[0.3333333333333333,\"#9c179e\"],[0.4444444444444444,\"#bd3786\"],[0.5555555555555556,\"#d8576b\"],[0.6666666666666666,\"#ed7953\"],[0.7777777777777778,\"#fb9f3a\"],[0.8888888888888888,\"#fdca26\"],[1.0,\"#f0f921\"]],\"type\":\"histogram2dcontour\"}],\"mesh3d\":[{\"colorbar\":{\"outlinewidth\":0,\"ticks\":\"\"},\"type\":\"mesh3d\"}],\"parcoords\":[{\"line\":{\"colorbar\":{\"outlinewidth\":0,\"ticks\":\"\"}},\"type\":\"parcoords\"}],\"pie\":[{\"automargin\":true,\"type\":\"pie\"}],\"scatter\":[{\"marker\":{\"colorbar\":{\"outlinewidth\":0,\"ticks\":\"\"}},\"type\":\"scatter\"}],\"scatter3d\":[{\"line\":{\"colorbar\":{\"outlinewidth\":0,\"ticks\":\"\"}},\"marker\":{\"colorbar\":{\"outlinewidth\":0,\"ticks\":\"\"}},\"type\":\"scatter3d\"}],\"scattercarpet\":[{\"marker\":{\"colorbar\":{\"outlinewidth\":0,\"ticks\":\"\"}},\"type\":\"scattercarpet\"}],\"scattergeo\":[{\"marker\":{\"colorbar\":{\"outlinewidth\":0,\"ticks\":\"\"}},\"type\":\"scattergeo\"}],\"scattergl\":[{\"marker\":{\"colorbar\":{\"outlinewidth\":0,\"ticks\":\"\"}},\"type\":\"scattergl\"}],\"scattermapbox\":[{\"marker\":{\"colorbar\":{\"outlinewidth\":0,\"ticks\":\"\"}},\"type\":\"scattermapbox\"}],\"scatterpolar\":[{\"marker\":{\"colorbar\":{\"outlinewidth\":0,\"ticks\":\"\"}},\"type\":\"scatterpolar\"}],\"scatterpolargl\":[{\"marker\":{\"colorbar\":{\"outlinewidth\":0,\"ticks\":\"\"}},\"type\":\"scatterpolargl\"}],\"scatterternary\":[{\"marker\":{\"colorbar\":{\"outlinewidth\":0,\"ticks\":\"\"}},\"type\":\"scatterternary\"}],\"surface\":[{\"colorbar\":{\"outlinewidth\":0,\"ticks\":\"\"},\"colorscale\":[[0.0,\"#0d0887\"],[0.1111111111111111,\"#46039f\"],[0.2222222222222222,\"#7201a8\"],[0.3333333333333333,\"#9c179e\"],[0.4444444444444444,\"#bd3786\"],[0.5555555555555556,\"#d8576b\"],[0.6666666666666666,\"#ed7953\"],[0.7777777777777778,\"#fb9f3a\"],[0.8888888888888888,\"#fdca26\"],[1.0,\"#f0f921\"]],\"type\":\"surface\"}],\"table\":[{\"cells\":{\"fill\":{\"color\":\"#EBF0F8\"},\"line\":{\"color\":\"white\"}},\"header\":{\"fill\":{\"color\":\"#C8D4E3\"},\"line\":{\"color\":\"white\"}},\"type\":\"table\"}]},\"layout\":{\"annotationdefaults\":{\"arrowcolor\":\"#2a3f5f\",\"arrowhead\":0,\"arrowwidth\":1},\"autotypenumbers\":\"strict\",\"coloraxis\":{\"colorbar\":{\"outlinewidth\":0,\"ticks\":\"\"}},\"colorscale\":{\"diverging\":[[0,\"#8e0152\"],[0.1,\"#c51b7d\"],[0.2,\"#de77ae\"],[0.3,\"#f1b6da\"],[0.4,\"#fde0ef\"],[0.5,\"#f7f7f7\"],[0.6,\"#e6f5d0\"],[0.7,\"#b8e186\"],[0.8,\"#7fbc41\"],[0.9,\"#4d9221\"],[1,\"#276419\"]],\"sequential\":[[0.0,\"#0d0887\"],[0.1111111111111111,\"#46039f\"],[0.2222222222222222,\"#7201a8\"],[0.3333333333333333,\"#9c179e\"],[0.4444444444444444,\"#bd3786\"],[0.5555555555555556,\"#d8576b\"],[0.6666666666666666,\"#ed7953\"],[0.7777777777777778,\"#fb9f3a\"],[0.8888888888888888,\"#fdca26\"],[1.0,\"#f0f921\"]],\"sequentialminus\":[[0.0,\"#0d0887\"],[0.1111111111111111,\"#46039f\"],[0.2222222222222222,\"#7201a8\"],[0.3333333333333333,\"#9c179e\"],[0.4444444444444444,\"#bd3786\"],[0.5555555555555556,\"#d8576b\"],[0.6666666666666666,\"#ed7953\"],[0.7777777777777778,\"#fb9f3a\"],[0.8888888888888888,\"#fdca26\"],[1.0,\"#f0f921\"]]},\"colorway\":[\"#636efa\",\"#EF553B\",\"#00cc96\",\"#ab63fa\",\"#FFA15A\",\"#19d3f3\",\"#FF6692\",\"#B6E880\",\"#FF97FF\",\"#FECB52\"],\"font\":{\"color\":\"#2a3f5f\"},\"geo\":{\"bgcolor\":\"white\",\"lakecolor\":\"white\",\"landcolor\":\"#E5ECF6\",\"showlakes\":true,\"showland\":true,\"subunitcolor\":\"white\"},\"hoverlabel\":{\"align\":\"left\"},\"hovermode\":\"closest\",\"mapbox\":{\"style\":\"light\"},\"paper_bgcolor\":\"white\",\"plot_bgcolor\":\"#E5ECF6\",\"polar\":{\"angularaxis\":{\"gridcolor\":\"white\",\"linecolor\":\"white\",\"ticks\":\"\"},\"bgcolor\":\"#E5ECF6\",\"radialaxis\":{\"gridcolor\":\"white\",\"linecolor\":\"white\",\"ticks\":\"\"}},\"scene\":{\"xaxis\":{\"backgroundcolor\":\"#E5ECF6\",\"gridcolor\":\"white\",\"gridwidth\":2,\"linecolor\":\"white\",\"showbackground\":true,\"ticks\":\"\",\"zerolinecolor\":\"white\"},\"yaxis\":{\"backgroundcolor\":\"#E5ECF6\",\"gridcolor\":\"white\",\"gridwidth\":2,\"linecolor\":\"white\",\"showbackground\":true,\"ticks\":\"\",\"zerolinecolor\":\"white\"},\"zaxis\":{\"backgroundcolor\":\"#E5ECF6\",\"gridcolor\":\"white\",\"gridwidth\":2,\"linecolor\":\"white\",\"showbackground\":true,\"ticks\":\"\",\"zerolinecolor\":\"white\"}},\"shapedefaults\":{\"line\":{\"color\":\"#2a3f5f\"}},\"ternary\":{\"aaxis\":{\"gridcolor\":\"white\",\"linecolor\":\"white\",\"ticks\":\"\"},\"baxis\":{\"gridcolor\":\"white\",\"linecolor\":\"white\",\"ticks\":\"\"},\"bgcolor\":\"#E5ECF6\",\"caxis\":{\"gridcolor\":\"white\",\"linecolor\":\"white\",\"ticks\":\"\"}},\"title\":{\"x\":0.05},\"xaxis\":{\"automargin\":true,\"gridcolor\":\"white\",\"linecolor\":\"white\",\"ticks\":\"\",\"title\":{\"standoff\":15},\"zerolinecolor\":\"white\",\"zerolinewidth\":2},\"yaxis\":{\"automargin\":true,\"gridcolor\":\"white\",\"linecolor\":\"white\",\"ticks\":\"\",\"title\":{\"standoff\":15},\"zerolinecolor\":\"white\",\"zerolinewidth\":2}}},\"scene\":{\"domain\":{\"x\":[0.0,1.0],\"y\":[0.0,1.0]},\"xaxis\":{\"title\":{\"text\":\"0\"}},\"yaxis\":{\"title\":{\"text\":\"1\"}},\"zaxis\":{\"title\":{\"text\":\"2\"}}},\"coloraxis\":{\"colorbar\":{\"title\":{\"text\":\"label\"}},\"colorscale\":[[0.0,\"#0d0887\"],[0.1111111111111111,\"#46039f\"],[0.2222222222222222,\"#7201a8\"],[0.3333333333333333,\"#9c179e\"],[0.4444444444444444,\"#bd3786\"],[0.5555555555555556,\"#d8576b\"],[0.6666666666666666,\"#ed7953\"],[0.7777777777777778,\"#fb9f3a\"],[0.8888888888888888,\"#fdca26\"],[1.0,\"#f0f921\"]]},\"legend\":{\"tracegroupgap\":0},\"margin\":{\"t\":60}},                        {\"responsive\": true}                    ).then(function(){\n",
              "                            \n",
              "var gd = document.getElementById('d7ef27ec-10ee-4ff5-a967-e438c78683c3');\n",
              "var x = new MutationObserver(function (mutations, observer) {{\n",
              "        var display = window.getComputedStyle(gd).display;\n",
              "        if (!display || display === 'none') {{\n",
              "            console.log([gd, 'removed!']);\n",
              "            Plotly.purge(gd);\n",
              "            observer.disconnect();\n",
              "        }}\n",
              "}});\n",
              "\n",
              "// Listen for the removal of the full notebook cells\n",
              "var notebookContainer = gd.closest('#notebook-container');\n",
              "if (notebookContainer) {{\n",
              "    x.observe(notebookContainer, {childList: true});\n",
              "}}\n",
              "\n",
              "// Listen for the clearing of the current output cell\n",
              "var outputEl = gd.closest('.output');\n",
              "if (outputEl) {{\n",
              "    x.observe(outputEl, {childList: true});\n",
              "}}\n",
              "\n",
              "                        })                };                            </script>        </div>\n",
              "</body>\n",
              "</html>"
            ]
          },
          "metadata": {}
        }
      ]
    },
    {
      "cell_type": "markdown",
      "source": [
        "## 실험"
      ],
      "metadata": {
        "id": "EEf_ka3VbN9R"
      }
    },
    {
      "cell_type": "code",
      "source": [
        "from sklearn.decomposition import PCA\n",
        "ex = X.iloc[:, :2]\n",
        "only_X = X.iloc[:, 2:]\n",
        "pca = PCA(n_components=10)\n",
        "pca.fit(only_X)\n",
        "X_pca = pca.transform(only_X)\n",
        "print(X_pca.shape)\n",
        "print(pca.explained_variance_ratio_)\n",
        "\n",
        "df = pd.DataFrame(X_pca, columns = ['comp1', 'comp2'])\n",
        "train = pd.concat([df, ex, y], axis=1)"
      ],
      "metadata": {
        "id": "wU3MqBX0yjfY"
      },
      "execution_count": null,
      "outputs": []
    },
    {
      "cell_type": "code",
      "source": [
        "from sklearn.discriminant_analysis import LinearDiscriminantAnalysis\n",
        "ex = X.iloc[:, :2]\n",
        "only_X = X.iloc[:, 2:]\n",
        "\n",
        "lda = LinearDiscriminantAnalysis()\n",
        "lda.fit(only_X,y)\n",
        "X_lda = lda.transform(only_X)\n",
        "\n",
        "\n",
        "ex_2 = test.iloc[:, :2]\n",
        "only_X_test = test.iloc[:, 2:]\n",
        "test_lda = lda.transform(only_X_test)\n",
        "test = pd.DataFrame(test_lda, columns = ['comp1', 'comp2'])\n",
        "test = pd.concat([test, ex_2], axis=1)\n",
        "\n",
        "\n",
        "df = pd.DataFrame(X_lda, columns = ['comp1', 'comp2'])\n",
        "train = pd.concat([df, ex, y], axis=1)\n",
        "X = train.drop('Y_Class', axis=1)\n",
        "y = train['Y_Class']"
      ],
      "metadata": {
        "id": "ZDxf81Lg0bTS"
      },
      "execution_count": null,
      "outputs": []
    },
    {
      "cell_type": "code",
      "source": [
        "# 학습함수 정의 \n",
        "def objective(trial: Trial, train):\n",
        "    param = {\n",
        "        'verbose' : 0,\n",
        "        'random_state': 7,\n",
        "        'n_iter_no_change' : 50,\n",
        "        'validation_fraction' : 0.1,\n",
        "        'learning_rate' : 0.1,\n",
        "        'n_estimators' : trial.suggest_int('n_estimators', 100, 2000, step=20),\n",
        "        'min_impurity_decrease' : trial.suggest_float('min_impurity_decrease', 0, 0.2),\n",
        "        'max_depth' : trial.suggest_int('max_depth', 2, 20),\n",
        "        'max_features' : trial.suggest_categorical('max_features', ['auto', 'log2']),\n",
        "        'subsample' : trial.suggest_float('subsample', 0.7, 1.0, step=0.1)\n",
        "    }\n",
        "    cv_accuracy = []\n",
        "    cv = KFold(n_splits = 5)\n",
        "    n_iter = 0\n",
        "\n",
        "    for t,v in cv.split(train, train['Y_Quality']):\n",
        "        train_cv = train.iloc[t]\n",
        "        val_cv = train.iloc[v]\n",
        "\n",
        "        X = train_cv.drop('Y_Quality', axis=1)\n",
        "        y = train_cv['Y_Quality']\n",
        "\n",
        "        val_X = val_cv.drop('Y_Quality', axis=1)\n",
        "        val_y = val_cv['Y_Quality']\n",
        "\n",
        "        model = GradientBoostingRegressor(**param)\n",
        "\n",
        "        model.fit(X, y)\n",
        "        score = mean_squared_error(val_y, model.predict(val_X), squared = True)\n",
        "\n",
        "        cv_accuracy.append(score)\n",
        "        n_iter += 1\n",
        "\n",
        "    return np.mean(cv_accuracy)\n",
        "\n",
        "# create study\n",
        "study = optuna.create_study(\n",
        "    direction='minimize',\n",
        "    sampler=optuna.samplers.TPESampler(seed=42),\n",
        "    pruner=optuna.pruners.HyperbandPruner(),\n",
        "    study_name='GB-Hyperparameter-Tuning'\n",
        ")\n",
        "\n",
        "# 학습 \n",
        "study.optimize(lambda trial: objective(trial,train), \n",
        "               n_trials=50)\n",
        "print('Best trial : score {}, \\nparams {}'.format(study.best_trial.value, study.best_trial.params))"
      ],
      "metadata": {
        "id": "zitAYWh51YrD"
      },
      "execution_count": null,
      "outputs": []
    },
    {
      "cell_type": "code",
      "source": [
        "# SVC(kernel = 'poly)로 stacking이나 활용하자 / split은 0.2 기준 0 나왔음. \n",
        "# 할때 범주형 변수 labelencoding 해놨으니 얘네는 빼고 돌려보고 더 좋은 걸로 하자 \n",
        "\n",
        "# y_class 나뉘는걸 보면 굉장히 민감하게 나뉘는거같은데 pca와 같은 차원축소 기법이 과연 옳을 것인가는 의문\n",
        "# 이건 해보고 성능 높아지면 쓰고 아니면 안쓰기 \n",
        "\n",
        "# 공정 데이터이고 각 컬럼이 비식별화되어 함부로 판단하기 힘듦. \n",
        "# 결측치로 비어있는 부분은 아마 line이나 product code가 다름에 따라 해당 공정이 없는 경우일 것으로 예상됨.\n",
        "# 이상치 처리는 건들지 말고 결측치는 0으로 두어 모델에 반영되지 않게 하자. \n",
        "\n",
        "# line, product 4-1 이랑 5-1 조합 train에선 3 3 이고 test에선 3 1 인데 이거 빼고 아니고 성능 차이 확인 "
      ],
      "metadata": {
        "id": "yU5N35ZrkBca"
      },
      "execution_count": null,
      "outputs": []
    },
    {
      "cell_type": "code",
      "source": [
        "GB_model = GradientBoostingClassifier(**study.best_trial.params, random_state = 42, n_iter_no_change = 50, validation_fraction = 0.1, learning_rate = 0.05)\n",
        "GB_model.fit(X, y)\n",
        "GB_pred = GB_model.predict(test)\n",
        "print(pd.DataFrame(GB_pred).value_counts())\n",
        "\n",
        "sample_submission['Y_Class'] = GB_pred\n",
        "sample_submission.to_csv('./submit.csv', index=False)"
      ],
      "metadata": {
        "colab": {
          "base_uri": "https://localhost:8080/"
        },
        "id": "aFeRkwq13AND",
        "outputId": "31a1af29-7362-4b08-c8c3-cbe11375fe9c"
      },
      "execution_count": null,
      "outputs": [
        {
          "output_type": "stream",
          "name": "stdout",
          "text": [
            "1    261\n",
            "0     30\n",
            "2     19\n",
            "dtype: int64\n"
          ]
        }
      ]
    },
    {
      "cell_type": "markdown",
      "source": [
        "## 1. XGB"
      ],
      "metadata": {
        "id": "9NWbT0ZujlP8"
      }
    },
    {
      "cell_type": "code",
      "source": [
        "# 학습함수 정의 \n",
        "def objective(trial: Trial, train):\n",
        "    param = {\n",
        "        'criterion' : 'absolute_error',\n",
        "        'tree_method' : 'exact',\n",
        "        'seed': 42, \n",
        "        'learning_rate' : trial.suggest_float('learning_rate', 0.01, 0.1),\n",
        "        'n_estimators':trial.suggest_int('n_estimators', 100, 1000),        \n",
        "        'min_child_weight': trial.suggest_int('min_child_weight', 1, 9),\n",
        "        'max_depth' : trial.suggest_int('max_depth', 3, 30),\n",
        "        'colsample_bytree' : trial.suggest_float('colsample_bytree', 0.2, 1.0),\n",
        "        'min_split_loss' : trial.suggest_loguniform('min_split_loss', 1e-3, 10.0),\n",
        "        'lambda': trial.suggest_loguniform('lambda', 1e-3, 10.0),\n",
        "        'alpha': trial.suggest_loguniform('alpha', 1e-3, 10.0),\n",
        "    }\n",
        "    cv_accuracy = []\n",
        "    cv = StratifiedKFold(n_splits = 5)\n",
        "    n_iter = 0\n",
        "\n",
        "    for t,v in cv.split(train, train['Y_Class']):\n",
        "        train_cv = train.iloc[t]\n",
        "        val_cv = train.iloc[v]\n",
        "\n",
        "        X = train_cv.drop('Y_Class', axis=1)\n",
        "        y = train_cv['Y_Class']\n",
        "\n",
        "        val_X = val_cv.drop('Y_Class', axis=1)\n",
        "        val_y = val_cv['Y_Class']\n",
        "\n",
        "        model = XGBClassifier(**param)\n",
        "\n",
        "        model.fit(X, y)\n",
        "        score = f1_score(val_y, model.predict(val_X), average = 'macro')\n",
        "\n",
        "        cv_accuracy.append(score)\n",
        "        n_iter += 1\n",
        "\n",
        "    return np.mean(cv_accuracy)\n",
        "\n",
        "\n",
        "# create study\n",
        "study = optuna.create_study(\n",
        "    direction='maximize',\n",
        "    sampler=optuna.samplers.TPESampler(seed=42),\n",
        "    pruner=optuna.pruners.HyperbandPruner(),\n",
        "    study_name='XGBClassifier-Hyperparameter-Tuning'\n",
        ")\n",
        "\n",
        "# 학습 \n",
        "study.optimize(lambda trial: objective(trial,train), \n",
        "               n_trials=50)\n",
        "print('Best trial : score {}, \\nparams {}'.format(study.best_trial.value, study.best_trial.params))"
      ],
      "metadata": {
        "id": "OI4oV31NhI4H"
      },
      "execution_count": null,
      "outputs": []
    },
    {
      "cell_type": "markdown",
      "source": [
        "## 2. LGBM"
      ],
      "metadata": {
        "id": "yHnaCEjCjxD_"
      }
    },
    {
      "cell_type": "code",
      "source": [
        "# 학습함수 정의 \n",
        "def objective(trial: Trial, train):\n",
        "\n",
        "    param = {\n",
        "        'verbose' : -1,\n",
        "        'random_state': 7, \n",
        "        'n_jobs': -1,\n",
        "        # 'colsample_bytree': trial.suggest_uniform('colsample_bytree', 0.7, 1.0),\n",
        "        # 'max_depth' : trial.suggest_int('max_depth', 2, 30),\n",
        "        # 'n_estimators' : trial.suggest_int('n_estimators', 500, 3000),\n",
        "        # 'learning_rate': trial.suggest_float('learning_rate', 0.1, 0.3), \n",
        "        'learning_rate' : 0.1,\n",
        "        # 'num_leaves' : trial.suggest_int('num_leaves', 5, 30),\n",
        "        # 'min_child_samples' : trial.suggest_int('min_child_samples', 2, 10),\n",
        "        # 'reg_alpha' : trial.suggest_float('reg_alpha', 1, 1.3),\n",
        "        # 'reg_lambda' : trial.suggest_float('reg_lambda', 1, 1.3)\n",
        "    }\n",
        "    cv_accuracy = []\n",
        "    cv = StratifiedKFold(n_splits = 5)\n",
        "    n_iter = 0\n",
        "\n",
        "    for t,v in cv.split(train, train['Y_Class']):\n",
        "        train_cv = train.iloc[t]\n",
        "        val_cv = train.iloc[v]\n",
        "\n",
        "        X = train_cv.drop('Y_Class', axis=1)\n",
        "        y = train_cv['Y_Class']\n",
        "\n",
        "        val_X = val_cv.drop('Y_Class', axis=1)\n",
        "        val_y = val_cv['Y_Class']\n",
        "\n",
        "        model = LGBMClassifier(**param)\n",
        "\n",
        "        model.fit(X, y)\n",
        "        score = f1_score(val_y, model.predict(val_X), average = 'macro')\n",
        "        print(score)\n",
        "\n",
        "        cv_accuracy.append(score)\n",
        "        n_iter += 1\n",
        "\n",
        "    return np.mean(cv_accuracy)\n",
        "\n",
        "# create study\n",
        "study = optuna.create_study(\n",
        "    direction='maximize',\n",
        "    sampler=optuna.samplers.TPESampler(seed=42),\n",
        "    pruner=optuna.pruners.HyperbandPruner(),\n",
        "    study_name='LGBM-Hyperparameter-Tuning'\n",
        ")\n",
        "\n",
        "# 학습 \n",
        "study.optimize(lambda trial: objective(trial,train),\n",
        "               n_trials=100)\n",
        "print('Best trial : score {}, \\nparams {}'.format(study.best_trial.value, study.best_trial.params))"
      ],
      "metadata": {
        "id": "nuVz1quQjj6z"
      },
      "execution_count": null,
      "outputs": []
    },
    {
      "cell_type": "code",
      "source": [
        "X_train, X_val, y_train, y_val = train_test_split(X, y, test_size = 0.1, stratify = y, random_state = 7)\n",
        "\n",
        "RF = RandomForestClassifier(random_state=7).fit(X_train, y_train)\n",
        "RF_pred = RF.predict(X_val)\n",
        "score = f1_score(y_val, RF_pred, average='macro')\n",
        "print(score)"
      ],
      "metadata": {
        "id": "K1_RYnputf9R"
      },
      "execution_count": null,
      "outputs": []
    },
    {
      "cell_type": "code",
      "source": [
        "model = LGBMClassifier(random_state=7).fit(X_train, y_train)\n",
        "pred = model.predict(X_val)\n",
        "score = f1_score(y_val, pred, average='macro')\n",
        "print(score)"
      ],
      "metadata": {
        "colab": {
          "base_uri": "https://localhost:8080/"
        },
        "id": "-MBs-n3VuOFd",
        "outputId": "1fa615fa-eabe-45b9-ffb3-4cb8a14aab50"
      },
      "execution_count": null,
      "outputs": [
        {
          "output_type": "stream",
          "name": "stdout",
          "text": [
            "0.5929319467250501\n"
          ]
        }
      ]
    },
    {
      "cell_type": "code",
      "source": [
        "model = XGBClassifier(random_state=7).fit(X_train, y_train)\n",
        "pred = model.predict(X_val)\n",
        "score = f1_score(y_val, pred, average='macro')\n",
        "print(score)"
      ],
      "metadata": {
        "colab": {
          "base_uri": "https://localhost:8080/"
        },
        "id": "uQHkKEWmuh6q",
        "outputId": "45afc590-b92b-4c26-8942-461ff91d0cb5"
      },
      "execution_count": null,
      "outputs": [
        {
          "output_type": "stream",
          "name": "stdout",
          "text": [
            "0.5925925925925926\n"
          ]
        }
      ]
    },
    {
      "cell_type": "code",
      "source": [
        "model = ExtraTreesClassifier(random_state=7).fit(X_train, y_train)\n",
        "pred = model.predict(X_val)\n",
        "score = f1_score(y_val, pred, average='macro')\n",
        "print(score)"
      ],
      "metadata": {
        "colab": {
          "base_uri": "https://localhost:8080/"
        },
        "id": "2funq1bCukIq",
        "outputId": "74861c81-d849-4a0f-e38e-d4e81e983d77"
      },
      "execution_count": null,
      "outputs": [
        {
          "output_type": "stream",
          "name": "stdout",
          "text": [
            "0.6415491578535056\n"
          ]
        }
      ]
    },
    {
      "cell_type": "code",
      "source": [
        "model = GradientBoostingClassifier(random_state=7).fit(X_train, y_train)\n",
        "pred = model.predict(X_val)\n",
        "score = f1_score(y_val, pred, average='macro')\n",
        "print(score)"
      ],
      "metadata": {
        "colab": {
          "base_uri": "https://localhost:8080/"
        },
        "id": "fOvYFnmhy2Ak",
        "outputId": "644f7b5f-8596-414d-fd0e-0612eed1b03f"
      },
      "execution_count": null,
      "outputs": [
        {
          "output_type": "stream",
          "name": "stdout",
          "text": [
            "0.6888888888888888\n"
          ]
        }
      ]
    },
    {
      "cell_type": "code",
      "source": [
        "RF = RandomForestClassifier(random_state=43).fit(X, y)\n",
        "RF_pred = RF.predict(test)\n",
        "\n",
        "XGB = XGBClassifier(random_state=43).fit(X, y)\n",
        "XGB_pred = XGB.predict(test)\n",
        "\n",
        "LGBM = LGBMClassifier(random_state=43).fit(X, y)\n",
        "LGBM_pred = LGBM.predict(test)\n",
        "\n",
        "ET = ExtraTreesClassifier(random_state=43).fit(X, y)\n",
        "ET_pred = ET.predict(test)\n",
        "\n",
        "GB = GradientBoostingClassifier(random_state=43).fit(X, y)\n",
        "GB_pred = GB.predict(test)\n",
        "\n",
        "# 2랑 5가 멀쩡 "
      ],
      "metadata": {
        "id": "vFe8-nPPyeb8"
      },
      "execution_count": null,
      "outputs": []
    },
    {
      "cell_type": "code",
      "source": [
        "# 5개 다 쓰는 hard voting\n",
        "# https://wikidocs.net/42408\n",
        "\n",
        "def mode(list):\n",
        "    count = 0\n",
        "    mode = 0;\n",
        "    for x in list: \n",
        "        if list.count(x) > count:\n",
        "            count = list.count(x)\n",
        "            mode = x\n",
        "\n",
        "    return mode\n",
        "final_pred = []\n",
        "for i in range(0, len(RF_pred)):\n",
        "    final_pred.append(mode([RF_pred[i], XGB_pred[i], LGBM_pred[i], ET_pred[i], GB_pred[i]]))\n",
        "sample_submission['Y_Class'] = final_pred\n",
        "sample_submission['Y_Class'].value_counts()"
      ],
      "metadata": {
        "colab": {
          "base_uri": "https://localhost:8080/"
        },
        "id": "HHtTCwlS10ti",
        "outputId": "bfb65b75-0b5b-4fbd-c276-9d674aa26a3a"
      },
      "execution_count": null,
      "outputs": [
        {
          "output_type": "execute_result",
          "data": {
            "text/plain": [
              "1    268\n",
              "0     40\n",
              "2      2\n",
              "Name: Y_Class, dtype: int64"
            ]
          },
          "metadata": {},
          "execution_count": 138
        }
      ]
    },
    {
      "cell_type": "code",
      "source": [
        "def mode(list):\n",
        "    count = 0\n",
        "    mode = 0;\n",
        "    for x in list: \n",
        "        if list.count(x) > count:\n",
        "            count = list.count(x)\n",
        "            mode = x\n",
        "    return mode\n",
        "final_pred = []\n",
        "for i in range(0, len(RF_pred)):\n",
        "    final_pred.append(mode([GB_pred[i]]))\n",
        "sample_submission['Y_Class'] = final_pred\n",
        "sample_submission['Y_Class'].value_counts()"
      ],
      "metadata": {
        "colab": {
          "base_uri": "https://localhost:8080/"
        },
        "id": "Dl8fQo5j2dhv",
        "outputId": "564ff0ca-4acb-4c7f-9f3c-fae24816f1d2"
      },
      "execution_count": null,
      "outputs": [
        {
          "output_type": "execute_result",
          "data": {
            "text/plain": [
              "1    242\n",
              "0     39\n",
              "2     29\n",
              "Name: Y_Class, dtype: int64"
            ]
          },
          "metadata": {},
          "execution_count": 141
        }
      ]
    },
    {
      "cell_type": "code",
      "source": [
        "sample_submission.to_csv('./submit.csv', index=False)"
      ],
      "metadata": {
        "id": "B22ISQ7H2jj2"
      },
      "execution_count": null,
      "outputs": []
    },
    {
      "cell_type": "markdown",
      "source": [
        "## 3. ET"
      ],
      "metadata": {
        "id": "1A_5bF8soNF9"
      }
    },
    {
      "cell_type": "code",
      "source": [
        "# 학습함수 정의 \n",
        "def objective(trial: Trial, train):\n",
        "    param = {\n",
        "        'verbose' : 1,\n",
        "        'random_state': 42,\n",
        "        'n_jobs': -1,\n",
        "        'max_depth' : trial.suggest_int('max_depth', 5, 50),\n",
        "        'ccp_alpha' : trial.suggest_float('ccp_alpha', 0, 0.3),\n",
        "        'n_estimators':trial.suggest_int('n_estimators', 500, 3000),\n",
        "        'min_impurity_decrease' : trial.suggest_float('min_impurity_decrease', 0, 0.5)\n",
        "    }\n",
        "    cv_accuracy = []\n",
        "    cv = StratifiedKFold(n_splits = 5)\n",
        "    n_iter = 0\n",
        "\n",
        "    for t,v in cv.split(train, train['Y_Class']):\n",
        "        train_cv = train.iloc[t]\n",
        "        val_cv = train.iloc[v]\n",
        "\n",
        "        X = train_cv.drop('Y_Class', axis=1)\n",
        "        y = train_cv['Y_Class']\n",
        "\n",
        "        val_X = val_cv.drop('Y_Class', axis=1)\n",
        "        val_y = val_cv['Y_Class']\n",
        "\n",
        "        model = ExtraTreesClassifier(**param)\n",
        "\n",
        "        model.fit(X, y)\n",
        "        score = f1_score(val_y, model.predict(val_X), average = 'macro')\n",
        "\n",
        "        cv_accuracy.append(score)\n",
        "        n_iter += 1\n",
        "\n",
        "    return np.mean(cv_accuracy)\n",
        "\n",
        "\n",
        "# create study\n",
        "study = optuna.create_study(\n",
        "    direction='maximize',\n",
        "    sampler=optuna.samplers.TPESampler(seed=42),\n",
        "    pruner=optuna.pruners.HyperbandPruner(),\n",
        "    study_name='ExtraTrees-Hyperparameter-Tuning'\n",
        ")\n",
        "\n",
        "# 학습 \n",
        "study.optimize(lambda trial: objective(trial,train), \n",
        "               n_trials=50)\n",
        "print('Best trial : score {}, \\nparams {}'.format(study.best_trial.value, study.best_trial.params))"
      ],
      "metadata": {
        "id": "y7YZq7Bbkc_b"
      },
      "execution_count": null,
      "outputs": []
    },
    {
      "cell_type": "markdown",
      "source": [
        "## 4. GB"
      ],
      "metadata": {
        "id": "Os-HbRdq7gv9"
      }
    },
    {
      "cell_type": "code",
      "source": [
        "# X_train, X_val, y_train, y_val = train_test_split(X, y, test_size = 0.2, stratify = y, random_state = 7)\n",
        "\n",
        "# 학습함수 정의 \n",
        "def objective(trial: Trial, train):\n",
        "    param = {\n",
        "        'verbose' : 0,\n",
        "        'random_state': 7,\n",
        "        'n_iter_no_change' : 50,\n",
        "        'validation_fraction' : 0.1,\n",
        "        'learning_rate' : 0.1,\n",
        "        'n_estimators' : trial.suggest_int('n_estimators', 100, 2000, step=20),\n",
        "        'min_impurity_decrease' : trial.suggest_float('min_impurity_decrease', 0, 0.2),\n",
        "        'max_depth' : trial.suggest_int('max_depth', 2, 20),\n",
        "        'max_features' : trial.suggest_categorical('max_features', ['auto', 'log2']),\n",
        "        'subsample' : trial.suggest_float('subsample', 0.7, 1.0, step=0.1)\n",
        "    }\n",
        "    cv_accuracy = []\n",
        "    cv = KFold(n_splits = 5)\n",
        "    n_iter = 0\n",
        "\n",
        "    for t,v in cv.split(train, train['Y_Class']):\n",
        "        train_cv = train.iloc[t]\n",
        "        val_cv = train.iloc[v]\n",
        "\n",
        "        X = train_cv.drop('Y_Class', axis=1)\n",
        "        y = train_cv['Y_Class']\n",
        "\n",
        "        val_X = val_cv.drop('Y_Class', axis=1)\n",
        "        val_y = val_cv['Y_Class']\n",
        "\n",
        "        model = GradientBoostingClassifier(**param)\n",
        "\n",
        "        model.fit(X, y)\n",
        "        score = f1_score(val_y, model.predict(val_X), average = 'macro')\n",
        "\n",
        "        cv_accuracy.append(score)\n",
        "        n_iter += 1\n",
        "\n",
        "    return np.mean(cv_accuracy)\n",
        "\n",
        "    # model = GradientBoostingClassifier(**param)\n",
        "    # model.fit(X_train, y_train)\n",
        "    # score = f1_score(y_val, model.predict(X_val), average='macro')\n",
        "\n",
        "    # return score\n",
        "\n",
        "# create study\n",
        "study = optuna.create_study(\n",
        "    direction='maximize',\n",
        "    sampler=optuna.samplers.TPESampler(seed=42),\n",
        "    pruner=optuna.pruners.HyperbandPruner(),\n",
        "    study_name='GB-Hyperparameter-Tuning'\n",
        ")\n",
        "\n",
        "# 학습 \n",
        "study.optimize(lambda trial: objective(trial,train), \n",
        "               n_trials=50)\n",
        "print('Best trial : score {}, \\nparams {}'.format(study.best_trial.value, study.best_trial.params))"
      ],
      "metadata": {
        "id": "oay2Gzkp7ht2"
      },
      "execution_count": null,
      "outputs": []
    },
    {
      "cell_type": "code",
      "source": [
        "GB_model = GradientBoostingClassifier(random_state = 42, n_iter_no_change = 50, validation_fraction = 0.1, n_estimators = 1900, \n",
        "                                      learning_rate = 0.05, min_impurity_decrease = 0.07031308605404483, max_depth = 2)\n",
        "GB_model.fit(X, y)\n",
        "GB_pred = GB_model.predict(test)\n",
        "pd.DataFrame(GB_pred).value_counts()"
      ],
      "metadata": {
        "colab": {
          "base_uri": "https://localhost:8080/"
        },
        "id": "Ofq2_xYiB3w5",
        "outputId": "825b20e7-7449-4cfe-9d85-0d1cd59406be"
      },
      "execution_count": null,
      "outputs": [
        {
          "output_type": "execute_result",
          "data": {
            "text/plain": [
              "1    242\n",
              "2     39\n",
              "0     29\n",
              "dtype: int64"
            ]
          },
          "metadata": {},
          "execution_count": 171
        }
      ]
    },
    {
      "cell_type": "code",
      "source": [
        "GB_model = GradientBoostingClassifier(**study.best_trial.params, random_state = 42, n_iter_no_change = 50, validation_fraction = 0.1, learning_rate = 0.05)\n",
        "GB_model.fit(X, y)\n",
        "GB_pred = GB_model.predict(test)\n",
        "print(pd.DataFrame(GB_pred).value_counts())\n",
        "\n",
        "sample_submission['Y_Class'] = GB_pred\n",
        "sample_submission.to_csv('./submit.csv', index=False)"
      ],
      "metadata": {
        "colab": {
          "base_uri": "https://localhost:8080/"
        },
        "id": "cxv63HuIY2lh",
        "outputId": "e3296ad1-4054-4f70-8eb4-f068d89ce95d"
      },
      "execution_count": null,
      "outputs": [
        {
          "output_type": "stream",
          "name": "stdout",
          "text": [
            "1    241\n",
            "2     39\n",
            "0     30\n",
            "dtype: int64\n"
          ]
        }
      ]
    }
  ]
}